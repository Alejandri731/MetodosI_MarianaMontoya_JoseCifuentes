{
 "cells": [
  {
   "cell_type": "code",
   "execution_count": 190,
   "metadata": {},
   "outputs": [],
   "source": [
    "import numpy as np\n",
    "import matplotlib.pyplot as plt\n",
    "import sympy as sym\n",
    "from math import e"
   ]
  },
  {
   "cell_type": "markdown",
   "metadata": {},
   "source": [
    "Ejercicio 19"
   ]
  },
  {
   "cell_type": "markdown",
   "metadata": {},
   "source": [
    "# a."
   ]
  },
  {
   "cell_type": "code",
   "execution_count": 191,
   "metadata": {},
   "outputs": [],
   "source": [
    "x = sym.Symbol('x',real=True)\n",
    "y = sym.Symbol('y',real=True)"
   ]
  },
  {
   "cell_type": "code",
   "execution_count": 192,
   "metadata": {},
   "outputs": [],
   "source": [
    "def GetLaguerre(n,x):\n",
    "    if n==0:\n",
    "        poly = sym.Number(1)\n",
    "    elif n==1:\n",
    "        poly = 1-x\n",
    "    else:\n",
    "        poly =  ((2*n-1-x)*GetLaguerre(n-1,x)-(n-1)*GetLaguerre(n-2,x))/n\n",
    "   \n",
    "    return sym.expand(poly,x)"
   ]
  },
  {
   "cell_type": "code",
   "execution_count": 193,
   "metadata": {},
   "outputs": [],
   "source": [
    "def GetDLaguerre(n,x):\n",
    "    Pn = GetLaguerre(n,x)\n",
    "    return sym.diff(Pn,x,1)"
   ]
  },
  {
   "cell_type": "code",
   "execution_count": 194,
   "metadata": {},
   "outputs": [],
   "source": [
    "def GetNewton(f,df,xn,itmax=10000,precision=1e-14):\n",
    "    \n",
    "    error = 1.\n",
    "    it = 0\n",
    "    \n",
    "    while error >= precision and it < itmax:\n",
    "        \n",
    "        try:\n",
    "            \n",
    "            xn1 = xn - f(xn)/df(xn)\n",
    "            \n",
    "            error = np.abs(f(xn)/df(xn))\n",
    "            \n",
    "        except ZeroDivisionError:\n",
    "            print('Zero Division')\n",
    "            \n",
    "        xn = xn1\n",
    "        it += 1\n",
    "        \n",
    "    if it == itmax:\n",
    "        return False\n",
    "    else:\n",
    "        return xn"
   ]
  },
  {
   "cell_type": "code",
   "execution_count": 195,
   "metadata": {},
   "outputs": [],
   "source": [
    "def GetRoots(f,df,x,tolerancia = 10):\n",
    "    \n",
    "    Roots = np.array([])\n",
    "    \n",
    "    for i in x:\n",
    "        \n",
    "        root = GetNewton(f,df,i)\n",
    "\n",
    "        if  type(root)!=bool:\n",
    "            croot = np.round( root, tolerancia )\n",
    "            \n",
    "            if croot not in Roots:\n",
    "                Roots = np.append(Roots, croot)\n",
    "                \n",
    "    Roots.sort()\n",
    "    \n",
    "    return Roots"
   ]
  },
  {
   "cell_type": "code",
   "execution_count": 196,
   "metadata": {},
   "outputs": [],
   "source": [
    "def GetAllRootsGLag(n):\n",
    "\n",
    "    xn = np.linspace(0, n + np.sqrt(n)*(n-1),100)\n",
    "    \n",
    "    Laguerre = []\n",
    "    DLaguerre = []\n",
    "    \n",
    "    for i in range(n+1):\n",
    "        Laguerre.append(GetLaguerre(i,x))\n",
    "        DLaguerre.append(GetDLaguerre(i,x))\n",
    "    \n",
    "    poly = sym.lambdify([x],Laguerre[n],'numpy')\n",
    "    Dpoly = sym.lambdify([x],DLaguerre[n],'numpy')\n",
    "    Roots = GetRoots(poly,Dpoly,xn)\n",
    "\n",
    "    if len(Roots) != n:\n",
    "        ValueError('El número de raíces debe ser igual al n del polinomio.')\n",
    "    \n",
    "    return Roots"
   ]
  },
  {
   "cell_type": "code",
   "execution_count": 197,
   "metadata": {},
   "outputs": [],
   "source": [
    "def GetWeightsGLag(n):\n",
    "\n",
    "    Roots = GetAllRootsGLag(n)\n",
    "    \n",
    "    Laguerre = GetLaguerre(n+1, x)\n",
    "    \n",
    "    Lpoly = sym.lambdify([x],Laguerre,'numpy')\n",
    "    Weights = Roots/((n+1)**(2) * (Lpoly(Roots))**2)\n",
    "    \n",
    "    return Weights, Roots"
   ]
  },
  {
   "cell_type": "code",
   "execution_count": 198,
   "metadata": {},
   "outputs": [],
   "source": [
    "f= lambda x: (e**(x)*x**(3))/(e**(x)-1)"
   ]
  },
  {
   "cell_type": "code",
   "execution_count": 199,
   "metadata": {},
   "outputs": [],
   "source": [
    "pesos = GetWeightsGLag(3)\n",
    "raices = GetAllRootsGLag(3)"
   ]
  },
  {
   "cell_type": "code",
   "execution_count": 200,
   "metadata": {},
   "outputs": [
    {
     "ename": "IndexError",
     "evalue": "tuple index out of range",
     "output_type": "error",
     "traceback": [
      "\u001b[1;31m---------------------------------------------------------------------------\u001b[0m",
      "\u001b[1;31mIndexError\u001b[0m                                Traceback (most recent call last)",
      "\u001b[1;32mc:\\Users\\aleja\\OneDrive\\Documentos\\METODOS\\MetodosI_MarianaMontoya_JoseCifuentes\\Ejercicios Parcial 2\\Ejercicios Parcial 2.ipynb Cell 13\u001b[0m line \u001b[0;36m4\n\u001b[0;32m      <a href='vscode-notebook-cell:/c%3A/Users/aleja/OneDrive/Documentos/METODOS/MetodosI_MarianaMontoya_JoseCifuentes/Ejercicios%20Parcial%202/Ejercicios%20Parcial%202.ipynb#W3sZmlsZQ%3D%3D?line=0'>1</a>\u001b[0m I\u001b[39m=\u001b[39m\u001b[39m0\u001b[39m\n\u001b[0;32m      <a href='vscode-notebook-cell:/c%3A/Users/aleja/OneDrive/Documentos/METODOS/MetodosI_MarianaMontoya_JoseCifuentes/Ejercicios%20Parcial%202/Ejercicios%20Parcial%202.ipynb#W3sZmlsZQ%3D%3D?line=1'>2</a>\u001b[0m \u001b[39mfor\u001b[39;00m i \u001b[39min\u001b[39;00m \u001b[39mrange\u001b[39m(\u001b[39m3\u001b[39m):\n\u001b[1;32m----> <a href='vscode-notebook-cell:/c%3A/Users/aleja/OneDrive/Documentos/METODOS/MetodosI_MarianaMontoya_JoseCifuentes/Ejercicios%20Parcial%202/Ejercicios%20Parcial%202.ipynb#W3sZmlsZQ%3D%3D?line=3'>4</a>\u001b[0m     I \u001b[39m+\u001b[39m\u001b[39m=\u001b[39m pesos[i]\u001b[39m*\u001b[39mf(raices[i])\n\u001b[0;32m      <a href='vscode-notebook-cell:/c%3A/Users/aleja/OneDrive/Documentos/METODOS/MetodosI_MarianaMontoya_JoseCifuentes/Ejercicios%20Parcial%202/Ejercicios%20Parcial%202.ipynb#W3sZmlsZQ%3D%3D?line=5'>6</a>\u001b[0m I\n",
      "\u001b[1;31mIndexError\u001b[0m: tuple index out of range"
     ]
    }
   ],
   "source": [
    "I=0\n",
    "for i in range(3):\n",
    "\n",
    "    I += pesos[i]*f(raices[i])\n",
    "    \n",
    "I"
   ]
  },
  {
   "cell_type": "code",
   "execution_count": null,
   "metadata": {},
   "outputs": [
    {
     "data": {
      "text/plain": [
       "0.012809230839073926"
      ]
     },
     "execution_count": 170,
     "metadata": {},
     "output_type": "execute_result"
    }
   ],
   "source": [
    "(np.pi**(4)/15)-I"
   ]
  },
  {
   "cell_type": "markdown",
   "metadata": {},
   "source": [
    "# b."
   ]
  },
  {
   "cell_type": "code",
   "execution_count": null,
   "metadata": {},
   "outputs": [],
   "source": [
    "def integral(N):\n",
    "    Weights, Roots = GetWeightsGLag(N) \n",
    "    \n",
    "    \n",
    "    I=0\n",
    "    for i in range(N):\n",
    "        I += Weights[i]*f(Roots[i])\n",
    "    \n",
    "    return I"
   ]
  },
  {
   "cell_type": "code",
   "execution_count": null,
   "metadata": {},
   "outputs": [],
   "source": [
    "def error_r(N):\n",
    "    return integral(N)/(np.pi**(4)/15)"
   ]
  },
  {
   "cell_type": "code",
   "execution_count": null,
   "metadata": {},
   "outputs": [
    {
     "data": {
      "text/plain": [
       "0.9980275099526487"
      ]
     },
     "execution_count": 173,
     "metadata": {},
     "output_type": "execute_result"
    }
   ],
   "source": [
    "error_r(3)"
   ]
  },
  {
   "cell_type": "code",
   "execution_count": null,
   "metadata": {},
   "outputs": [],
   "source": [
    "n=np.linspace(2,10, 9, dtype=int)"
   ]
  },
  {
   "cell_type": "code",
   "execution_count": null,
   "metadata": {},
   "outputs": [
    {
     "data": {
      "text/plain": [
       "array([ 2,  3,  4,  5,  6,  7,  8,  9, 10])"
      ]
     },
     "execution_count": 175,
     "metadata": {},
     "output_type": "execute_result"
    }
   ],
   "source": [
    "n"
   ]
  },
  {
   "cell_type": "code",
   "execution_count": null,
   "metadata": {},
   "outputs": [
    {
     "ename": "IndexError",
     "evalue": "index 7 is out of bounds for axis 0 with size 7",
     "output_type": "error",
     "traceback": [
      "\u001b[1;31m---------------------------------------------------------------------------\u001b[0m",
      "\u001b[1;31mIndexError\u001b[0m                                Traceback (most recent call last)",
      "\u001b[1;32mc:\\Users\\aleja\\OneDrive\\Documentos\\METODOS\\MetodosI_MarianaMontoya_JoseCifuentes\\Ejercicios Parcial 2\\Ejercicios Parcial 2.ipynb Cell 21\u001b[0m line \u001b[0;36m4\n\u001b[0;32m      <a href='vscode-notebook-cell:/c%3A/Users/aleja/OneDrive/Documentos/METODOS/MetodosI_MarianaMontoya_JoseCifuentes/Ejercicios%20Parcial%202/Ejercicios%20Parcial%202.ipynb#X22sZmlsZQ%3D%3D?line=0'>1</a>\u001b[0m error \u001b[39m=\u001b[39mnp\u001b[39m.\u001b[39marray([])\n\u001b[0;32m      <a href='vscode-notebook-cell:/c%3A/Users/aleja/OneDrive/Documentos/METODOS/MetodosI_MarianaMontoya_JoseCifuentes/Ejercicios%20Parcial%202/Ejercicios%20Parcial%202.ipynb#X22sZmlsZQ%3D%3D?line=2'>3</a>\u001b[0m \u001b[39mfor\u001b[39;00m i \u001b[39min\u001b[39;00m n:\n\u001b[1;32m----> <a href='vscode-notebook-cell:/c%3A/Users/aleja/OneDrive/Documentos/METODOS/MetodosI_MarianaMontoya_JoseCifuentes/Ejercicios%20Parcial%202/Ejercicios%20Parcial%202.ipynb#X22sZmlsZQ%3D%3D?line=3'>4</a>\u001b[0m     error \u001b[39m=\u001b[39m np\u001b[39m.\u001b[39mappend(error, error_r(i))\n",
      "\u001b[1;32mc:\\Users\\aleja\\OneDrive\\Documentos\\METODOS\\MetodosI_MarianaMontoya_JoseCifuentes\\Ejercicios Parcial 2\\Ejercicios Parcial 2.ipynb Cell 21\u001b[0m line \u001b[0;36m2\n\u001b[0;32m      <a href='vscode-notebook-cell:/c%3A/Users/aleja/OneDrive/Documentos/METODOS/MetodosI_MarianaMontoya_JoseCifuentes/Ejercicios%20Parcial%202/Ejercicios%20Parcial%202.ipynb#X22sZmlsZQ%3D%3D?line=0'>1</a>\u001b[0m \u001b[39mdef\u001b[39;00m \u001b[39merror_r\u001b[39m(N):\n\u001b[1;32m----> <a href='vscode-notebook-cell:/c%3A/Users/aleja/OneDrive/Documentos/METODOS/MetodosI_MarianaMontoya_JoseCifuentes/Ejercicios%20Parcial%202/Ejercicios%20Parcial%202.ipynb#X22sZmlsZQ%3D%3D?line=1'>2</a>\u001b[0m     \u001b[39mreturn\u001b[39;00m integral(N)\u001b[39m/\u001b[39m(np\u001b[39m.\u001b[39mpi\u001b[39m*\u001b[39m\u001b[39m*\u001b[39m(\u001b[39m4\u001b[39m)\u001b[39m/\u001b[39m\u001b[39m15\u001b[39m)\n",
      "\u001b[1;32mc:\\Users\\aleja\\OneDrive\\Documentos\\METODOS\\MetodosI_MarianaMontoya_JoseCifuentes\\Ejercicios Parcial 2\\Ejercicios Parcial 2.ipynb Cell 21\u001b[0m line \u001b[0;36m7\n\u001b[0;32m      <a href='vscode-notebook-cell:/c%3A/Users/aleja/OneDrive/Documentos/METODOS/MetodosI_MarianaMontoya_JoseCifuentes/Ejercicios%20Parcial%202/Ejercicios%20Parcial%202.ipynb#X22sZmlsZQ%3D%3D?line=4'>5</a>\u001b[0m I\u001b[39m=\u001b[39m\u001b[39m0\u001b[39m\n\u001b[0;32m      <a href='vscode-notebook-cell:/c%3A/Users/aleja/OneDrive/Documentos/METODOS/MetodosI_MarianaMontoya_JoseCifuentes/Ejercicios%20Parcial%202/Ejercicios%20Parcial%202.ipynb#X22sZmlsZQ%3D%3D?line=5'>6</a>\u001b[0m \u001b[39mfor\u001b[39;00m i \u001b[39min\u001b[39;00m \u001b[39mrange\u001b[39m(N):\n\u001b[1;32m----> <a href='vscode-notebook-cell:/c%3A/Users/aleja/OneDrive/Documentos/METODOS/MetodosI_MarianaMontoya_JoseCifuentes/Ejercicios%20Parcial%202/Ejercicios%20Parcial%202.ipynb#X22sZmlsZQ%3D%3D?line=6'>7</a>\u001b[0m     I \u001b[39m+\u001b[39m\u001b[39m=\u001b[39m Weights[i]\u001b[39m*\u001b[39mf(Roots[i])\n\u001b[0;32m      <a href='vscode-notebook-cell:/c%3A/Users/aleja/OneDrive/Documentos/METODOS/MetodosI_MarianaMontoya_JoseCifuentes/Ejercicios%20Parcial%202/Ejercicios%20Parcial%202.ipynb#X22sZmlsZQ%3D%3D?line=8'>9</a>\u001b[0m \u001b[39mreturn\u001b[39;00m I\n",
      "\u001b[1;31mIndexError\u001b[0m: index 7 is out of bounds for axis 0 with size 7"
     ]
    }
   ],
   "source": [
    "error =np.array([])\n",
    "\n",
    "for i in n:\n",
    "    error = np.append(error, error_r(i))"
   ]
  },
  {
   "cell_type": "code",
   "execution_count": null,
   "metadata": {},
   "outputs": [
    {
     "data": {
      "text/plain": [
       "<matplotlib.legend.Legend at 0x24fffe796f0>"
      ]
     },
     "execution_count": 157,
     "metadata": {},
     "output_type": "execute_result"
    },
    {
     "data": {
      "image/png": "[encoded data removed]",
      "text/plain": [
       "<Figure size 640x480 with 1 Axes>"
      ]
     },
     "metadata": {},
     "output_type": "display_data"
    }
   ],
   "source": [
    "plt.scatter(n, error, label=\"Exactitud de la cuadratura de Laguerre\")\n",
    "plt.xlabel('n')\n",
    "plt.ylabel('Error relativo')\n",
    "plt.legend()"
   ]
  }
 ],
 "metadata": {
  "kernelspec": {
   "display_name": "Python 3",
   "language": "python",
   "name": "python3"
  },
  "language_info": {
   "codemirror_mode": {
    "name": "ipython",
    "version": 3
   },
   "file_extension": ".py",
   "mimetype": "text/x-python",
   "name": "python",
   "nbconvert_exporter": "python",
   "pygments_lexer": "ipython3",
   "version": "3.10.11"
  },
  "orig_nbformat": 4
 },
 "nbformat": 4,
 "nbformat_minor": 2
}
