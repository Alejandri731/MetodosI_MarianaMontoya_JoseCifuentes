{
 "cells": [
  {
   "cell_type": "code",
   "execution_count": 1,
   "metadata": {},
   "outputs": [],
   "source": [
    "import sympy as sym\n",
    "import numpy as np\n",
    "import matplotlib.pyplot as plt\n",
    "from mpl_toolkits.mplot3d import axes3d\n",
    "import matplotlib.animation as animation\n",
    "from tqdm import tqdm"
   ]
  },
  {
   "cell_type": "markdown",
   "metadata": {},
   "source": [
    "## Ejercicio 4"
   ]
  },
  {
   "cell_type": "code",
   "execution_count": 3,
   "metadata": {},
   "outputs": [],
   "source": [
    "A=np.array([[1,0,0],\n",
    "           [5,1,0],\n",
    "           [-2,3,-1]])\n",
    "B=np.array([[4,-2,1],\n",
    "           [0,3,7],\n",
    "           [0,0,2]])"
   ]
  },
  {
   "cell_type": "code",
   "execution_count": 4,
   "metadata": {},
   "outputs": [
    {
     "name": "stdout",
     "output_type": "stream",
     "text": [
      "[[ 4. -2.  1.]\n",
      " [20. -7. 12.]\n",
      " [-8. 13. 17.]]\n"
     ]
    }
   ],
   "source": [
    "def producto(A, B):\n",
    "    tam_A = np.shape(A)\n",
    "    tam_B = np.shape(B) \n",
    "\n",
    "    if tam_A[1] != tam_B[0]:\n",
    "        raise Exception(\"Las matrices no se pueden multiplicar.\")\n",
    "        return False\n",
    "    else:\n",
    "        C = np.empty((tam_A[0], tam_B[1]))\n",
    "        for filas in range(0,tam_A[0]):\n",
    "            for col in range(0,tam_B[1]):\n",
    "                C[filas,col] = np.dot(A[filas,:], B[:,col])\n",
    "        return C\n",
    "\n",
    "print(producto(A,B))"
   ]
  },
  {
   "cell_type": "markdown",
   "metadata": {},
   "source": [
    "## Ejercicio 7"
   ]
  },
  {
   "cell_type": "code",
   "execution_count": null,
   "metadata": {},
   "outputs": [],
   "source": [
    "M = np.array([[3,-1,-1],[-1,3,1],[2,1,4]],dtype=np.float32)\n",
    "b = np.array([1,3,7],dtype=np.float32)\n",
    "print(M)\n"
   ]
  },
  {
   "cell_type": "code",
   "execution_count": 58,
   "metadata": {},
   "outputs": [],
   "source": [
    "def Jacobi(M,b,itmax):\n",
    "    x_k = np.zeros_like(b)\n",
    "\n",
    "    for it in range(itmax):\n",
    "        x_k1 = np.zeros_like(b)\n",
    "        for i in range(x_k1.shape[0]):\n",
    "            suma = 0\n",
    "            for j in range(M.shape[0]):\n",
    "                if i != j:\n",
    "                    suma += M[i][j]*x_k[j]\n",
    "            \n",
    "            x_k1[i] = (1./M[i][i])*(b[i] - suma)\n",
    "        x_k = x_k1\n",
    "    return x_k"
   ]
  },
  {
   "cell_type": "code",
   "execution_count": 59,
   "metadata": {},
   "outputs": [
    {
     "data": {
      "text/plain": [
       "array([1., 1., 1.], dtype=float32)"
      ]
     },
     "execution_count": 59,
     "metadata": {},
     "output_type": "execute_result"
    }
   ],
   "source": [
    "Jacobi(M,b,50)"
   ]
  },
  {
   "cell_type": "code",
   "execution_count": 100,
   "metadata": {},
   "outputs": [],
   "source": [
    "def SOR(M,b,itmax,w,tolerancia):\n",
    "    x_old = np.zeros_like(b)\n",
    "    x_new = np.zeros_like(b)*np.nan\n",
    "\n",
    "    for it in range(itmax):\n",
    "\n",
    "        for i in range(b.shape[0]):\n",
    "            suma_new = 0\n",
    "            suma_old = 0\n",
    "\n",
    "            for j in range(i):\n",
    "                suma_new += M[i,j]*x_new[j]\n",
    "\n",
    "            for j in range(i+1,b.shape[0]):\n",
    "                suma_old += M[i,j]*x_old[j]\n",
    "                    \n",
    "            x_new[i] = (1-w)*x_old[i] + (w/M[i,i])*(b[i] - suma_new - suma_old)\n",
    "\n",
    "        \n",
    "        if np.linalg.norm(M@x_new-b) < tolerancia:\n",
    "            break\n",
    "\n",
    "        x_old = x_new\n",
    "    return x_new,it"
   ]
  },
  {
   "cell_type": "code",
   "execution_count": 96,
   "metadata": {},
   "outputs": [
    {
     "data": {
      "text/plain": [
       "array([1., 1., 1.], dtype=float32)"
      ]
     },
     "execution_count": 96,
     "metadata": {},
     "output_type": "execute_result"
    }
   ],
   "source": [
    "np.linalg.solve(M,b)"
   ]
  },
  {
   "cell_type": "code",
   "execution_count": 154,
   "metadata": {},
   "outputs": [
    {
     "data": {
      "text/plain": [
       "(array([1., 1., 1.], dtype=float32), 33)"
      ]
     },
     "execution_count": 154,
     "metadata": {},
     "output_type": "execute_result"
    }
   ],
   "source": [
    "SOR(M,b,100,1.2,1e-18)"
   ]
  },
  {
   "cell_type": "code",
   "execution_count": null,
   "metadata": {},
   "outputs": [],
   "source": [
    "SOR(M,b,1000,1.5,1e-3)"
   ]
  },
  {
   "cell_type": "code",
   "execution_count": 150,
   "metadata": {},
   "outputs": [],
   "source": [
    "dominio = np.linspace(1,2,10,endpoint=False)"
   ]
  },
  {
   "cell_type": "code",
   "execution_count": 151,
   "metadata": {},
   "outputs": [
    {
     "name": "stderr",
     "output_type": "stream",
     "text": [
      "C:\\Users\\Flutt\\AppData\\Local\\Temp\\ipykernel_5952\\1769158062.py:20: RuntimeWarning: overflow encountered in matmul\n",
      "  if np.linalg.norm(M@x_new-b) < tolerancia:\n",
      "C:\\Users\\Flutt\\AppData\\Local\\Temp\\ipykernel_5952\\1769158062.py:12: RuntimeWarning: overflow encountered in scalar multiply\n",
      "  suma_new += M[i,j]*x_new[j]\n",
      "C:\\Users\\Flutt\\AppData\\Local\\Temp\\ipykernel_5952\\1769158062.py:20: RuntimeWarning: invalid value encountered in matmul\n",
      "  if np.linalg.norm(M@x_new-b) < tolerancia:\n",
      "C:\\Users\\Flutt\\AppData\\Local\\Temp\\ipykernel_5952\\1769158062.py:17: RuntimeWarning: invalid value encountered in scalar subtract\n",
      "  x_new[i] = (1-w)*x_old[i] + (w/M[i,i])*(b[i] - suma_new - suma_old)\n"
     ]
    }
   ],
   "source": [
    "argmin = 0\n",
    "num_it = 1000\n",
    "\n",
    "for d in dominio:\n",
    "\n",
    "    _,it = SOR(M,b,1000,d,1e-3)\n",
    "\n",
    "    if it < num_it:\n",
    "        num_it = it\n",
    "        argmin = d\n"
   ]
  },
  {
   "cell_type": "code",
   "execution_count": 152,
   "metadata": {},
   "outputs": [
    {
     "name": "stderr",
     "output_type": "stream",
     "text": [
      "C:\\Users\\Flutt\\AppData\\Local\\Temp\\ipykernel_5952\\1769158062.py:20: RuntimeWarning: overflow encountered in matmul\n",
      "  if np.linalg.norm(M@x_new-b) < tolerancia:\n",
      "C:\\Users\\Flutt\\AppData\\Local\\Temp\\ipykernel_5952\\1769158062.py:12: RuntimeWarning: overflow encountered in scalar multiply\n",
      "  suma_new += M[i,j]*x_new[j]\n",
      "C:\\Users\\Flutt\\AppData\\Local\\Temp\\ipykernel_5952\\1769158062.py:20: RuntimeWarning: invalid value encountered in matmul\n",
      "  if np.linalg.norm(M@x_new-b) < tolerancia:\n",
      "C:\\Users\\Flutt\\AppData\\Local\\Temp\\ipykernel_5952\\1769158062.py:17: RuntimeWarning: invalid value encountered in scalar subtract\n",
      "  x_new[i] = (1-w)*x_old[i] + (w/M[i,i])*(b[i] - suma_new - suma_old)\n",
      "C:\\Users\\Flutt\\AppData\\Local\\Temp\\ipykernel_5952\\1769158062.py:17: RuntimeWarning: overflow encountered in cast\n",
      "  x_new[i] = (1-w)*x_old[i] + (w/M[i,i])*(b[i] - suma_new - suma_old)\n",
      "C:\\Users\\Flutt\\AppData\\Local\\Temp\\ipykernel_5952\\1769158062.py:15: RuntimeWarning: invalid value encountered in scalar add\n",
      "  suma_old += M[i,j]*x_old[j]\n"
     ]
    },
    {
     "data": {
      "text/html": [
       "<div>\n",
       "<style scoped>\n",
       "    .dataframe tbody tr th:only-of-type {\n",
       "        vertical-align: middle;\n",
       "    }\n",
       "\n",
       "    .dataframe tbody tr th {\n",
       "        vertical-align: top;\n",
       "    }\n",
       "\n",
       "    .dataframe thead th {\n",
       "        text-align: right;\n",
       "    }\n",
       "</style>\n",
       "<table border=\"1\" class=\"dataframe\">\n",
       "  <thead>\n",
       "    <tr style=\"text-align: right;\">\n",
       "      <th></th>\n",
       "      <th>omega</th>\n",
       "      <th>num_it</th>\n",
       "    </tr>\n",
       "  </thead>\n",
       "  <tbody>\n",
       "    <tr>\n",
       "      <th>0</th>\n",
       "      <td>1.100</td>\n",
       "      <td>10</td>\n",
       "    </tr>\n",
       "    <tr>\n",
       "      <th>1</th>\n",
       "      <td>1.109</td>\n",
       "      <td>10</td>\n",
       "    </tr>\n",
       "    <tr>\n",
       "      <th>2</th>\n",
       "      <td>1.118</td>\n",
       "      <td>11</td>\n",
       "    </tr>\n",
       "    <tr>\n",
       "      <th>3</th>\n",
       "      <td>1.127</td>\n",
       "      <td>11</td>\n",
       "    </tr>\n",
       "    <tr>\n",
       "      <th>4</th>\n",
       "      <td>1.136</td>\n",
       "      <td>12</td>\n",
       "    </tr>\n",
       "  </tbody>\n",
       "</table>\n",
       "</div>"
      ],
      "text/plain": [
       "   omega  num_it\n",
       "0  1.100      10\n",
       "1  1.109      10\n",
       "2  1.118      11\n",
       "3  1.127      11\n",
       "4  1.136      12"
      ]
     },
     "execution_count": 152,
     "metadata": {},
     "output_type": "execute_result"
    }
   ],
   "source": [
    "import pandas as pd\n",
    "arr = []\n",
    "for w in np.linspace(1.1,2,100,endpoint=False)[:-1]:\n",
    "    _,it = SOR(M,b,1000,w,1e-3)\n",
    "    arr.append([w,it])\n",
    "\n",
    "res = pd.DataFrame(arr)\n",
    "res.columns = ['omega','num_it']\n",
    "res.sort_values('num_it').head()"
   ]
  },
  {
   "cell_type": "markdown",
   "metadata": {},
   "source": [
    "# Ejercicio 12"
   ]
  },
  {
   "cell_type": "code",
   "execution_count": 101,
   "metadata": {},
   "outputs": [],
   "source": [
    "x = sym.Symbol('x',real=True)\n",
    "y = sym.Symbol('y',real=True)"
   ]
  },
  {
   "cell_type": "code",
   "execution_count": 103,
   "metadata": {},
   "outputs": [],
   "source": [
    "G = np.array([lambda x, y: np.log(x**2 + y**2) - np.sin(x*y) - np.log(2) - np.log(np.pi),\n",
    "              lambda x, y: np.exp(x-y) + np.cos(x*y)])\n",
    "F = np.array([\n",
    "    lambda x,y: G[0](x,y)**2,\n",
    "    lambda x,y: G[1](x,y)**2,\n",
    "])"
   ]
  },
  {
   "cell_type": "code",
   "execution_count": 104,
   "metadata": {},
   "outputs": [],
   "source": [
    "def dominio_funcion1(x,y):\n",
    "    if x**2 + y**2 <= 0:\n",
    "            return 0 \n",
    "    else:\n",
    "        return np.log(x**2 + y**2) - np.sin(x * y)"
   ]
  },
  {
   "cell_type": "code",
   "execution_count": 106,
   "metadata": {},
   "outputs": [
    {
     "data": {
      "text/plain": [
       "array([3.60867178, 0.35578073])"
      ]
     },
     "execution_count": 106,
     "metadata": {},
     "output_type": "execute_result"
    }
   ],
   "source": [
    "def derivada_x(f,x,y,h):\n",
    "    return (f[0](x+h,y) - f[0](x-h,y))/(2*h)\n",
    "\n",
    "def derivada_y(f,x,y,h):\n",
    "    return (f[1](x,y+h) - f[1](x,y-h))/(2*h)\n",
    "\n",
    "def Gradient(f,x,y):\n",
    "    dx = derivada_x(f,x,y,1e-5)\n",
    "    dy = derivada_y(f,x,y,1e-5)\n",
    "    return np.array([dx, dy])\n",
    "\n",
    "x0, y0 = 2, 2\n",
    "Gradient(F, x0, y0)\n",
    "\n",
    "\n",
    "\n"
   ]
  },
  {
   "cell_type": "code",
   "execution_count": 120,
   "metadata": {},
   "outputs": [],
   "source": [
    "#Gradient descent 2D\n",
    "def Minimizer(f,x0, N = 500, gamma = 0.01):\n",
    "    \n",
    "    r = np.zeros((N,2))\n",
    "    r[0] = x0\n",
    "    \n",
    "    Grad = np.zeros((N,2))\n",
    "    Grad[0] = Gradient(f,r[0,0],r[0,1])\n",
    "    \n",
    "    # We save the gradient in each step\n",
    "\n",
    "    for i in tqdm(range(1,N)):\n",
    "        r[i] = r[i-1] - gamma*Gradient(f,r[i-1,0],r[i-1,1])\n",
    "        Grad[i] = Gradient(f,r[i-1,0],r[i-1,1])\n",
    "        \n",
    "        \n",
    "    return r,Grad"
   ]
  },
  {
   "cell_type": "code",
   "execution_count": 121,
   "metadata": {},
   "outputs": [
    {
     "name": "stderr",
     "output_type": "stream",
     "text": [
      "100%|██████████| 499/499 [00:00<00:00, 8995.82it/s]\n"
     ]
    }
   ],
   "source": [
    "xmin = Minimizer(F,[2,2])[0][-1]"
   ]
  },
  {
   "cell_type": "code",
   "execution_count": 122,
   "metadata": {},
   "outputs": [
    {
     "data": {
      "text/plain": [
       "array([-1.62092562e-14, -2.07113438e-10])"
      ]
     },
     "execution_count": 122,
     "metadata": {},
     "output_type": "execute_result"
    }
   ],
   "source": [
    "GetF(G,xmin)"
   ]
  },
  {
   "cell_type": "code",
   "execution_count": 111,
   "metadata": {},
   "outputs": [],
   "source": [
    "def GetF(G,r):\n",
    "    \n",
    "    n = r.shape[0]\n",
    "    \n",
    "    v = np.zeros_like(r)\n",
    "    \n",
    "    for i in range(n):\n",
    "        v[i] = G[i](r[0],r[1])\n",
    "       \n",
    "    return v\n"
   ]
  },
  {
   "cell_type": "code",
   "execution_count": 126,
   "metadata": {},
   "outputs": [],
   "source": [
    "def GetJacobian(f,r,h=1e-6):\n",
    "    \n",
    "    n = r.shape[0]\n",
    "    \n",
    "    J = np.zeros((n,n))\n",
    "    \n",
    "    for i in range(n):\n",
    "        for j in range(n):\n",
    "            \n",
    "            rf = r.copy()\n",
    "            rb = r.copy()\n",
    "            \n",
    "            rf[j] = rf[j] + h\n",
    "            rb[j] = rb[j] - h\n",
    "            \n",
    "            J[i,j] = ( f[i](rf[0],rf[1]) - f[i](rb[0],rb[1])  )/(2*h)\n",
    "            \n",
    "            \n",
    "    \n",
    "    return J"
   ]
  },
  {
   "cell_type": "code",
   "execution_count": 127,
   "metadata": {},
   "outputs": [
    {
     "name": "stderr",
     "output_type": "stream",
     "text": [
      "100%|██████████| 99/99 [00:00<00:00, 15716.73it/s]\n"
     ]
    }
   ],
   "source": [
    "J = Minimizer(G,np.zeros(2),100,0.01)"
   ]
  },
  {
   "cell_type": "code",
   "execution_count": 145,
   "metadata": {},
   "outputs": [],
   "source": [
    "def NewtonRaphson(G,r,itmax=1000,error=1e-9):\n",
    "    \n",
    "    it = 0\n",
    "    d = 1.\n",
    "    dvector = []\n",
    "    \n",
    "    while d > error and it < itmax:\n",
    "        \n",
    "        # Vector actual\n",
    "        rc = r\n",
    "        \n",
    "        F = GetF(G,rc)\n",
    "        J = GetJacobian(G,rc)\n",
    "        #J = Minimizer(G,2,0.01)\n",
    "                  \n",
    "        r = rc - np.dot(np.linalg.inv(J),F)\n",
    "        \n",
    "        diff = r - rc\n",
    "        \n",
    "        d = np.max( np.abs(diff) )\n",
    "        \n",
    "        dvector.append(d)\n",
    "        #print(dvector)\n",
    "        \n",
    "        it += 1\n",
    "    \n",
    "    \n",
    "    return r,dvector"
   ]
  },
  {
   "cell_type": "code",
   "execution_count": 146,
   "metadata": {},
   "outputs": [],
   "source": [
    "r,dvector = NewtonRaphson(G,np.array([2,2.]))"
   ]
  },
  {
   "cell_type": "code",
   "execution_count": 147,
   "metadata": {},
   "outputs": [
    {
     "data": {
      "text/plain": [
       "array([1.77245385, 1.77245385])"
      ]
     },
     "execution_count": 147,
     "metadata": {},
     "output_type": "execute_result"
    }
   ],
   "source": [
    "r"
   ]
  },
  {
   "cell_type": "code",
   "execution_count": 148,
   "metadata": {},
   "outputs": [
    {
     "data": {
      "text/plain": [
       "array([4.93038066e-32, 0.00000000e+00])"
      ]
     },
     "execution_count": 148,
     "metadata": {},
     "output_type": "execute_result"
    }
   ],
   "source": [
    "GetF(F,r)"
   ]
  },
  {
   "cell_type": "markdown",
   "metadata": {},
   "source": []
  }
 ],
 "metadata": {
  "kernelspec": {
   "display_name": "Python 3",
   "language": "python",
   "name": "python3"
  },
  "language_info": {
   "codemirror_mode": {
    "name": "ipython",
    "version": 3
   },
   "file_extension": ".py",
   "mimetype": "text/x-python",
   "name": "python",
   "nbconvert_exporter": "python",
   "pygments_lexer": "ipython3",
   "version": "3.10.11"
  },
  "orig_nbformat": 4
 },
 "nbformat": 4,
 "nbformat_minor": 2
}
