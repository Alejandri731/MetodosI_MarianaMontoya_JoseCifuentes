{
 "cells": [
  {
   "cell_type": "code",
   "execution_count": 1,
   "metadata": {},
   "outputs": [],
   "source": [
    "%matplotlib ipympl \n",
    "import numpy as np\n",
    "import matplotlib.pyplot as plt\n",
    "import time\n",
    "import sympy as sym\n",
    "from math import e\n",
    "import matplotlib.animation as animation\n",
    "from tqdm import tqdm"
   ]
  },
  {
   "cell_type": "markdown",
   "metadata": {},
   "source": [
    "## Ejercicio 11"
   ]
  },
  {
   "cell_type": "code",
   "execution_count": 2,
   "metadata": {},
   "outputs": [],
   "source": [
    "x0=np.array([1,1,1])\n",
    "\n",
    "A=np.array([[1,2,-1],\n",
    "            [1,0,1],\n",
    "            [4,-4,5]])"
   ]
  },
  {
   "cell_type": "code",
   "execution_count": 3,
   "metadata": {},
   "outputs": [],
   "source": [
    "def vector_sim(x0, A, k):\n",
    "    x_n = x0\n",
    "    for i in range(k-1):\n",
    "        x_n = np.dot(A, x_n/np.linalg.norm(x_n))\n",
    "    x_n1 = np.dot(A, x_n)\n",
    "    \n",
    "    resp = np.dot(x_n.T, x_n1) / np.dot(x_n.T, x_n )\n",
    "    \n",
    "    print(\"Valor propio: \", np.abs(resp))\n",
    "    \n",
    "    print(\"Vector propio: \", x_n1)\n",
    "        "
   ]
  },
  {
   "cell_type": "code",
   "execution_count": 4,
   "metadata": {},
   "outputs": [
    {
     "name": "stdout",
     "output_type": "stream",
     "text": [
      "Valor propio:  1.0\n",
      "Vector propio:  [-0.40824829  0.40824829  0.81649658]\n"
     ]
    }
   ],
   "source": [
    "vector_sim(x0, np.linalg.inv(A), 60)"
   ]
  },
  {
   "cell_type": "markdown",
   "metadata": {},
   "source": [
    "## Ejercicio 16"
   ]
  },
  {
   "cell_type": "code",
   "execution_count": 5,
   "metadata": {},
   "outputs": [],
   "source": [
    "i=sym.I"
   ]
  },
  {
   "cell_type": "code",
   "execution_count": 6,
   "metadata": {},
   "outputs": [],
   "source": [
    "y0 = np.array([[1,0,0,0],\n",
    "                [0,1,0,0],\n",
    "                [0,0,-1,0],\n",
    "                [0,0,0,-1]])\n",
    "\n",
    "y1 = np.array([[0,0,0,1],\n",
    "              [0,0,1,0],\n",
    "              [0,-1,0,0],\n",
    "              [-1,0,0,0]])\n",
    "\n",
    "y2 = np.array([[0,0,0,-i],\n",
    "              [0,0,i,0],\n",
    "              [0,i,0,0],\n",
    "              [-i,0,0,0]])\n",
    "\n",
    "y3 = np.array([[0,0,1,0],\n",
    "              [0,0,0,-1],\n",
    "              [-1,0,0,0],\n",
    "              [0,1,0,0]])"
   ]
  },
  {
   "cell_type": "markdown",
   "metadata": {},
   "source": [
    "Métricas de Minkowski"
   ]
  },
  {
   "cell_type": "code",
   "execution_count": 7,
   "metadata": {},
   "outputs": [],
   "source": [
    "n00 = np.array([[1,0,0,0],\n",
    "                [0,1,0,0],\n",
    "                [0,0,1,0],\n",
    "                [0,0,0,1]])\n",
    "\n",
    "nii = np.array([[-1,0,0,0],\n",
    "                [0,-1,0,0],\n",
    "                [0,0,-1,0],\n",
    "                [0,0,0,-1]])\n",
    "\n",
    "nij = np.array([[0,0,0,0],\n",
    "                [0,0,0,0],\n",
    "                [0,0,0,0],\n",
    "                [0,0,0,0]])\n",
    "\n",
    "I = np.array([[1,0,0,0],\n",
    "                [0,1,0,0],\n",
    "                [0,0,1,0],\n",
    "                [0,0,0,1]])"
   ]
  },
  {
   "cell_type": "code",
   "execution_count": 8,
   "metadata": {},
   "outputs": [],
   "source": [
    "def anticonm(A,B):\n",
    "    return np.dot(A,B) +np.dot(B,A)"
   ]
  },
  {
   "cell_type": "markdown",
   "metadata": {},
   "source": [
    "Para $\\mu = v = 0$\n",
    "$$\\eta^{00}$$"
   ]
  },
  {
   "cell_type": "code",
   "execution_count": 9,
   "metadata": {},
   "outputs": [
    {
     "data": {
      "text/latex": [
       "$\\displaystyle \\left[\\begin{matrix}2 & 0 & 0 & 0\\\\0 & 2 & 0 & 0\\\\0 & 0 & 2 & 0\\\\0 & 0 & 0 & 2\\end{matrix}\\right]$"
      ],
      "text/plain": [
       "Matrix([\n",
       "[2, 0, 0, 0],\n",
       "[0, 2, 0, 0],\n",
       "[0, 0, 2, 0],\n",
       "[0, 0, 0, 2]])"
      ]
     },
     "execution_count": 9,
     "metadata": {},
     "output_type": "execute_result"
    }
   ],
   "source": [
    "sym.Matrix(anticonm(y0,y0)) \n"
   ]
  },
  {
   "cell_type": "code",
   "execution_count": 10,
   "metadata": {},
   "outputs": [
    {
     "data": {
      "text/latex": [
       "$\\displaystyle \\left[\\begin{matrix}2 & 0 & 0 & 0\\\\0 & 2 & 0 & 0\\\\0 & 0 & 2 & 0\\\\0 & 0 & 0 & 2\\end{matrix}\\right]$"
      ],
      "text/plain": [
       "Matrix([\n",
       "[2, 0, 0, 0],\n",
       "[0, 2, 0, 0],\n",
       "[0, 0, 2, 0],\n",
       "[0, 0, 0, 2]])"
      ]
     },
     "execution_count": 10,
     "metadata": {},
     "output_type": "execute_result"
    }
   ],
   "source": [
    "sym.Matrix(2*np.dot(n00,I))"
   ]
  },
  {
   "cell_type": "markdown",
   "metadata": {},
   "source": [
    "Para $\\mu \\neq v$\n",
    "$$\\eta^{ij}$$"
   ]
  },
  {
   "cell_type": "markdown",
   "metadata": {},
   "source": [
    "En general para $ij$, $\\eta^{ij}=0$, por tanto la relación de anticonmutación para $\\{\\gamma^i, \\gamma^j\\}=0_4$, donde $0_4$ es una matriz 4x4 llena de ceros. Esto también sucede para $\\eta^{0i}=0$"
   ]
  },
  {
   "cell_type": "code",
   "execution_count": 11,
   "metadata": {},
   "outputs": [
    {
     "data": {
      "text/plain": [
       "(Matrix([\n",
       " [0, 0, 0, 0],\n",
       " [0, 0, 0, 0],\n",
       " [0, 0, 0, 0],\n",
       " [0, 0, 0, 0]]),\n",
       " Matrix([\n",
       " [0, 0, 0, 0],\n",
       " [0, 0, 0, 0],\n",
       " [0, 0, 0, 0],\n",
       " [0, 0, 0, 0]]),\n",
       " Matrix([\n",
       " [0, 0, 0, 0],\n",
       " [0, 0, 0, 0],\n",
       " [0, 0, 0, 0],\n",
       " [0, 0, 0, 0]]))"
      ]
     },
     "execution_count": 11,
     "metadata": {},
     "output_type": "execute_result"
    }
   ],
   "source": [
    "sym.Matrix(anticonm(y0,y1)), sym.Matrix(anticonm(y0,y2)), sym.Matrix(anticonm(y0,y3))"
   ]
  },
  {
   "cell_type": "code",
   "execution_count": 12,
   "metadata": {},
   "outputs": [
    {
     "data": {
      "text/plain": [
       "(Matrix([\n",
       " [0, 0, 0, 0],\n",
       " [0, 0, 0, 0],\n",
       " [0, 0, 0, 0],\n",
       " [0, 0, 0, 0]]),\n",
       " Matrix([\n",
       " [0, 0, 0, 0],\n",
       " [0, 0, 0, 0],\n",
       " [0, 0, 0, 0],\n",
       " [0, 0, 0, 0]]),\n",
       " Matrix([\n",
       " [0, 0, 0, 0],\n",
       " [0, 0, 0, 0],\n",
       " [0, 0, 0, 0],\n",
       " [0, 0, 0, 0]]))"
      ]
     },
     "execution_count": 12,
     "metadata": {},
     "output_type": "execute_result"
    }
   ],
   "source": [
    "sym.Matrix(anticonm(y1,y2)), sym.Matrix(anticonm(y1,y3)), sym.Matrix(anticonm(y2,y3))"
   ]
  },
  {
   "cell_type": "markdown",
   "metadata": {},
   "source": [
    "Tenemos que la matriz $2\\eta^{ij}I_{4x4}$ es :"
   ]
  },
  {
   "cell_type": "code",
   "execution_count": 13,
   "metadata": {},
   "outputs": [
    {
     "data": {
      "text/latex": [
       "$\\displaystyle \\left[\\begin{matrix}0 & 0 & 0 & 0\\\\0 & 0 & 0 & 0\\\\0 & 0 & 0 & 0\\\\0 & 0 & 0 & 0\\end{matrix}\\right]$"
      ],
      "text/plain": [
       "Matrix([\n",
       "[0, 0, 0, 0],\n",
       "[0, 0, 0, 0],\n",
       "[0, 0, 0, 0],\n",
       "[0, 0, 0, 0]])"
      ]
     },
     "execution_count": 13,
     "metadata": {},
     "output_type": "execute_result"
    }
   ],
   "source": [
    "sym.Matrix(2*np.dot(nij,I))"
   ]
  },
  {
   "cell_type": "markdown",
   "metadata": {},
   "source": [
    "Por tanto se cumple la relación."
   ]
  },
  {
   "cell_type": "markdown",
   "metadata": {},
   "source": [
    "Finalmente para $\\mu = v$\n",
    "$$\\eta^{ii}$$"
   ]
  },
  {
   "cell_type": "code",
   "execution_count": 14,
   "metadata": {},
   "outputs": [
    {
     "data": {
      "text/plain": [
       "(Matrix([\n",
       " [-2,  0,  0,  0],\n",
       " [ 0, -2,  0,  0],\n",
       " [ 0,  0, -2,  0],\n",
       " [ 0,  0,  0, -2]]),\n",
       " Matrix([\n",
       " [-2,  0,  0,  0],\n",
       " [ 0, -2,  0,  0],\n",
       " [ 0,  0, -2,  0],\n",
       " [ 0,  0,  0, -2]]),\n",
       " Matrix([\n",
       " [-2,  0,  0,  0],\n",
       " [ 0, -2,  0,  0],\n",
       " [ 0,  0, -2,  0],\n",
       " [ 0,  0,  0, -2]]))"
      ]
     },
     "execution_count": 14,
     "metadata": {},
     "output_type": "execute_result"
    }
   ],
   "source": [
    "sym.Matrix(anticonm(y1,y1)), sym.Matrix(anticonm(y2,y2)), sym.Matrix(anticonm(y3,y3))"
   ]
  },
  {
   "cell_type": "markdown",
   "metadata": {},
   "source": [
    "En este caso tenemos que la matriz $2\\eta^{ii}I_{4x4}$ es :"
   ]
  },
  {
   "cell_type": "code",
   "execution_count": 15,
   "metadata": {},
   "outputs": [
    {
     "data": {
      "text/latex": [
       "$\\displaystyle \\left[\\begin{matrix}-2 & 0 & 0 & 0\\\\0 & -2 & 0 & 0\\\\0 & 0 & -2 & 0\\\\0 & 0 & 0 & -2\\end{matrix}\\right]$"
      ],
      "text/plain": [
       "Matrix([\n",
       "[-2,  0,  0,  0],\n",
       "[ 0, -2,  0,  0],\n",
       "[ 0,  0, -2,  0],\n",
       "[ 0,  0,  0, -2]])"
      ]
     },
     "execution_count": 15,
     "metadata": {},
     "output_type": "execute_result"
    }
   ],
   "source": [
    "sym.Matrix(2*np.dot(nii,I))"
   ]
  },
  {
   "cell_type": "markdown",
   "metadata": {},
   "source": [
    "Probadas todas las expresiones podemos afirmar que el álgebra de Clifford está dada por una relación de anticonmutación."
   ]
  },
  {
   "cell_type": "markdown",
   "metadata": {},
   "source": [
    "## Ejercicio 17"
   ]
  },
  {
   "cell_type": "code",
   "execution_count": 16,
   "metadata": {},
   "outputs": [],
   "source": [
    "x=sym.Symbol(\"x\", real=True)\n",
    "y=sym.Symbol(\"y\", real=True)\n",
    "z=x+i*y"
   ]
  },
  {
   "cell_type": "code",
   "execution_count": 17,
   "metadata": {},
   "outputs": [],
   "source": [
    "def f(x):\n",
    "    return x**3 -1"
   ]
  },
  {
   "cell_type": "code",
   "execution_count": 18,
   "metadata": {},
   "outputs": [],
   "source": [
    "num=f(z)"
   ]
  },
  {
   "cell_type": "code",
   "execution_count": 19,
   "metadata": {},
   "outputs": [],
   "source": [
    "F=np.array([sym.re(num), sym.im(num)])"
   ]
  },
  {
   "cell_type": "code",
   "execution_count": 20,
   "metadata": {},
   "outputs": [
    {
     "data": {
      "text/latex": [
       "$\\displaystyle 3 x^{2} - 3 y^{2}$"
      ],
      "text/plain": [
       "3*x**2 - 3*y**2"
      ]
     },
     "execution_count": 20,
     "metadata": {},
     "output_type": "execute_result"
    }
   ],
   "source": [
    "sym.diff(F[0],x)"
   ]
  },
  {
   "cell_type": "code",
   "execution_count": 21,
   "metadata": {},
   "outputs": [],
   "source": [
    "def GetJacobian(fn):\n",
    "    \n",
    "    J=sym.Matrix([[ sym.diff(fn[0], x), sym.diff(fn[0], y)],\n",
    "               [sym.diff(fn[1], x), sym.diff(fn[1], y)]]) \n",
    "    \n",
    "    return J"
   ]
  },
  {
   "cell_type": "code",
   "execution_count": 22,
   "metadata": {},
   "outputs": [],
   "source": [
    "Jacb_sym = GetJacobian(F)"
   ]
  },
  {
   "cell_type": "code",
   "execution_count": 23,
   "metadata": {},
   "outputs": [
    {
     "data": {
      "text/latex": [
       "$\\displaystyle \\left[\\begin{matrix}3 x^{2} - 3 y^{2} & - 6 x y\\\\6 x y & 3 x^{2} - 3 y^{2}\\end{matrix}\\right]$"
      ],
      "text/plain": [
       "Matrix([\n",
       "[3*x**2 - 3*y**2,          -6*x*y],\n",
       "[          6*x*y, 3*x**2 - 3*y**2]])"
      ]
     },
     "execution_count": 23,
     "metadata": {},
     "output_type": "execute_result"
    }
   ],
   "source": [
    "Jacb_sym"
   ]
  },
  {
   "cell_type": "code",
   "execution_count": 24,
   "metadata": {},
   "outputs": [],
   "source": [
    "Jac_np = sym.lambdify([x,y],Jacb_sym,\"numpy\")"
   ]
  },
  {
   "cell_type": "code",
   "execution_count": 25,
   "metadata": {},
   "outputs": [],
   "source": [
    "F_np = sym.lambdify([x,y], sym.Matrix(F),\"numpy\")"
   ]
  },
  {
   "cell_type": "code",
   "execution_count": 26,
   "metadata": {},
   "outputs": [],
   "source": [
    "def raices(fn, z0, J, itmax=1000,error=1e-9):\n",
    "    \n",
    "    it = 0\n",
    "    d = 1.\n",
    "    dvector = []\n",
    "    cont=0\n",
    "    while d > error and it < itmax:\n",
    "        # Vector actual\n",
    "        zc = z0\n",
    "        F = fn(zc[0],zc[1]).T[0]\n",
    "        Jac = J(zc[0], zc[1])   \n",
    "        InvJ = np.linalg.inv(Jac)\n",
    "        \n",
    "        z0 = zc - np.dot(InvJ , F)\n",
    "        \n",
    "        diff = z0 - zc\n",
    "        \n",
    "        d = np.max( np.abs(diff) )\n",
    "        \n",
    "        dvector.append(d)\n",
    "        \n",
    "        it += 1\n",
    "    \n",
    "    #print(it)\n",
    "    return z0"
   ]
  },
  {
   "cell_type": "code",
   "execution_count": 27,
   "metadata": {},
   "outputs": [],
   "source": [
    "N=50\n",
    "x = list(np.linspace(-1,1,N))\n",
    "y = list(np.linspace(-1,1,N))\n",
    "#x = list(np.random.uniform(-1,1,N))\n",
    "#y = list(np.random.uniform(-1,1,N))\n",
    "Fractal = np.zeros((N,N), np.int64)\n",
    "n_im = round(np.sqrt(3)/2, 7)"
   ]
  },
  {
   "cell_type": "code",
   "execution_count": 28,
   "metadata": {},
   "outputs": [],
   "source": [
    "for i in x:\n",
    "    for j in y:\n",
    "        p_x = x.index(i)\n",
    "        p_y = y.index(j)\n",
    "        r = raices(F_np, np.array([i , j]), Jac_np)\n",
    "        #print([round(r[0],1), round(r[1],7)])\n",
    "        if (-0.5 == round(r[0],1)) and  (n_im == round(r[1],7)):\n",
    "            Fractal[p_x , p_y] = 20\n",
    "        elif (-0.5 == round(r[0],1)) and  (-n_im == round(r[1],7)):\n",
    "            Fractal[p_x , p_y] = 100\n",
    "        else:\n",
    "            Fractal[p_x , p_y] = 255"
   ]
  },
  {
   "cell_type": "code",
   "execution_count": 29,
   "metadata": {},
   "outputs": [
    {
     "data": {
      "text/plain": [
       "<matplotlib.image.AxesImage at 0x1cf1755dbd0>"
      ]
     },
     "execution_count": 29,
     "metadata": {},
     "output_type": "execute_result"
    },
    {
     "data": {
      "application/vnd.jupyter.widget-view+json": {
       "model_id": "215e2c49775e4f49a2cb0ed029b426f5",
       "version_major": 2,
       "version_minor": 0
      },
      "image/png": "[encoded data removed]",
      "text/html": [
       "\n",
       "            <div style=\"display: inline-block;\">\n",
       "                <div class=\"jupyter-widgets widget-label\" style=\"text-align: center;\">\n",
       "                    Figure\n",
       "                </div>\n",
       "                <img src='data:image/png;base64,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' width=640.0/>\n",
       "            </div>\n",
       "        "
      ],
      "text/plain": [
       "Canvas(toolbar=Toolbar(toolitems=[('Home', 'Reset original view', 'home', 'home'), ('Back', 'Back to previous …"
      ]
     },
     "metadata": {},
     "output_type": "display_data"
    }
   ],
   "source": [
    "plt.imshow(Fractal, cmap=\"coolwarm\" ,extent=[-1,1,-1,1])"
   ]
  }
 ],
 "metadata": {
  "kernelspec": {
   "display_name": "Python 3",
   "language": "python",
   "name": "python3"
  },
  "language_info": {
   "codemirror_mode": {
    "name": "ipython",
    "version": 3
   },
   "file_extension": ".py",
   "mimetype": "text/x-python",
   "name": "python",
   "nbconvert_exporter": "python",
   "pygments_lexer": "ipython3",
   "version": "3.10.11"
  }
 },
 "nbformat": 4,
 "nbformat_minor": 2
}
