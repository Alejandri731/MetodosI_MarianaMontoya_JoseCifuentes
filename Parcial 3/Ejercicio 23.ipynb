{
 "cells": [
  {
   "cell_type": "code",
   "execution_count": 18,
   "metadata": {},
   "outputs": [],
   "source": [
    "%matplotlib ipympl \n",
    "import numpy as np\n",
    "import matplotlib.pyplot as plt\n",
    "import time\n",
    "import sympy as sym\n",
    "from math import e\n",
    "import matplotlib.animation as animation\n",
    "from tqdm import tqdm"
   ]
  },
  {
   "cell_type": "code",
   "execution_count": 19,
   "metadata": {},
   "outputs": [],
   "source": [
    "#Revisar matriz\n",
    "A=np.array([[0.2, 0.1, 1, 1, 0],\n",
    "            [0.1, 4, -1, 1, -1],\n",
    "            [1, -1, 60, 0, -2],\n",
    "            [1, 1, 0, 8, 4],\n",
    "            [0, -1, -2, 4, 700]])\n",
    "b=np.array([1,2,3,4,5])\n",
    "x0=np.array([1,1,1,1,1])"
   ]
  },
  {
   "cell_type": "code",
   "execution_count": 20,
   "metadata": {},
   "outputs": [
    {
     "data": {
      "text/plain": [
       "array([  2.3,   3.1,  58. ,  14. , 701. ])"
      ]
     },
     "execution_count": 20,
     "metadata": {},
     "output_type": "execute_result"
    }
   ],
   "source": [
    "np.dot(A,x0) "
   ]
  },
  {
   "cell_type": "code",
   "execution_count": 21,
   "metadata": {},
   "outputs": [
    {
     "data": {
      "text/plain": [
       "array([  1.3,   1.1,  55. ,  10. , 696. ])"
      ]
     },
     "execution_count": 21,
     "metadata": {},
     "output_type": "execute_result"
    }
   ],
   "source": [
    "np.dot(A,x0) - b"
   ]
  },
  {
   "cell_type": "code",
   "execution_count": 22,
   "metadata": {},
   "outputs": [],
   "source": [
    "def i_dot(x,A):\n",
    "    return np.dot(x.T, A, x) "
   ]
  },
  {
   "cell_type": "code",
   "execution_count": 23,
   "metadata": {},
   "outputs": [],
   "source": [
    "def desenso(A,b, x0, itmax=100, norma=0.01):\n",
    "    rk = np.dot(A,x0)-b\n",
    "    pk = -rk\n",
    "    ak = np.dot( rk.T, pk)/ np.dot(pk.T, A, pk)\n",
    "    xk= x0 + np.dot(ak, pk)\n",
    "\n",
    "    d = np.max(np.abs(np.dot(A,rk) - b))\n",
    "    it = 0\n",
    "    #iteraciones\n",
    "    ak = -( np.dot(rk.T,pk) )/np.dot(pk.T, A, pk )\n",
    "    \n",
    "    \n",
    "    while d > norma and it < itmax:\n",
    "        \n",
    "        rk = rk - np.dot( ak,A, pk)\n",
    "        \n",
    "        Bk = np.dot(rk.T, A, pk)/np.dot(pk.T, A, pk)\n",
    "        \n",
    "        pk= -rk + np.dot(Bk, pk)\n",
    "\n",
    "        ak = np.dot(rk.T, pk) / np.dot(pk.T, A, pk)                   #xk+1\n",
    "        \n",
    "        xk = xk + np.dot(ak, pk)   #xk+1\n",
    "        \n",
    "        d = np.max(np.abs(np.dot(A,rk) - b))\n",
    "        it += 1\n",
    "        print(d)\n",
    "        \n",
    "    print(it)\n",
    "    return xk"
   ]
  },
  {
   "cell_type": "code",
   "execution_count": 24,
   "metadata": {},
   "outputs": [
    {
     "name": "stdout",
     "output_type": "stream",
     "text": [
      "2942259.4801277877\n",
      "91216951.7859797\n",
      "284382754.54215366\n",
      "1218015405.76395\n",
      "4791577967.804707\n",
      "19246794815.6285\n",
      "76906697033.9637\n",
      "307707269649.82916\n",
      "1230748597800.23\n",
      "4923074871285.206\n",
      "19692219005771.355\n",
      "78768956501740.08\n",
      "315075745529020.5\n",
      "1260303062593307.5\n",
      "5041212169896717.0\n",
      "2.0164848760062664e+16\n",
      "8.065939495977558e+16\n",
      "3.2263757991957677e+17\n",
      "1.2905503195978332e+18\n",
      "5.162201278471806e+18\n",
      "2.0648805113806758e+19\n",
      "8.259522045530751e+19\n",
      "3.303808818211496e+20\n",
      "1.3215235272846787e+21\n",
      "5.286094109138635e+21\n",
      "2.114437643655462e+22\n",
      "8.45775057462184e+22\n",
      "3.3831002298487366e+23\n",
      "1.3532400919394946e+24\n",
      "5.412960367757981e+24\n",
      "2.1651841471031923e+25\n",
      "8.660736588412769e+25\n",
      "3.4642946353651076e+26\n",
      "1.385717854146043e+27\n",
      "5.542871416584172e+27\n",
      "2.217148566633669e+28\n",
      "8.868594266534676e+28\n",
      "3.54743770661387e+29\n",
      "1.418975082645548e+30\n",
      "5.675900330582192e+30\n",
      "2.270360132232877e+31\n",
      "9.081440528931508e+31\n",
      "3.632576211572603e+32\n",
      "1.4530304846290412e+33\n",
      "5.812121938516165e+33\n",
      "2.324848775406466e+34\n",
      "9.299395101625864e+34\n",
      "3.7197580406503456e+35\n",
      "1.4879032162601382e+36\n",
      "5.951612865040553e+36\n",
      "2.380645146016221e+37\n",
      "9.522580584064885e+37\n",
      "3.809032233625954e+38\n",
      "1.5236128934503816e+39\n",
      "6.094451573801526e+39\n",
      "2.4377806295206105e+40\n",
      "9.751122518082442e+40\n",
      "3.900449007232977e+41\n",
      "1.5601796028931907e+42\n",
      "6.240718411572763e+42\n",
      "2.496287364629105e+43\n",
      "9.98514945851642e+43\n",
      "3.994059783406568e+44\n",
      "1.5976239133626273e+45\n",
      "6.390495653450509e+45\n",
      "2.5561982613802037e+46\n",
      "1.0224793045520815e+47\n",
      "4.089917218208326e+47\n",
      "1.6359668872833303e+48\n",
      "6.543867549133321e+48\n",
      "2.6175470196533285e+49\n",
      "1.0470188078613314e+50\n",
      "4.188075231445326e+50\n",
      "1.6752300925781303e+51\n",
      "6.700920370312521e+51\n",
      "2.6803681481250084e+52\n",
      "1.0721472592500034e+53\n",
      "4.2885890370000135e+53\n",
      "1.7154356148000054e+54\n",
      "6.861742459200022e+54\n",
      "2.7446969836800086e+55\n",
      "1.0978787934720035e+56\n",
      "4.391515173888014e+56\n",
      "1.7566060695552055e+57\n",
      "7.026424278220822e+57\n",
      "2.810569711288329e+58\n",
      "1.1242278845153315e+59\n",
      "4.496911538061326e+59\n",
      "1.7987646152245305e+60\n",
      "7.195058460898122e+60\n",
      "2.878023384359249e+61\n",
      "1.1512093537436995e+62\n",
      "4.604837414974798e+62\n",
      "1.8419349659899192e+63\n",
      "7.367739863959677e+63\n",
      "2.9470959455838707e+64\n",
      "1.1788383782335483e+65\n",
      "4.715353512934193e+65\n",
      "1.8861414051736772e+66\n",
      "7.544565620694709e+66\n",
      "100\n"
     ]
    },
    {
     "data": {
      "text/plain": [
       "array([1.64967407e+135, 1.64967407e+135, 1.64967407e+135, 1.64967407e+135,\n",
       "       1.64967407e+135])"
      ]
     },
     "execution_count": 24,
     "metadata": {},
     "output_type": "execute_result"
    }
   ],
   "source": [
    "desenso(A,b, x0)"
   ]
  }
 ],
 "metadata": {
  "kernelspec": {
   "display_name": "Python 3",
   "language": "python",
   "name": "python3"
  },
  "language_info": {
   "codemirror_mode": {
    "name": "ipython",
    "version": 3
   },
   "file_extension": ".py",
   "mimetype": "text/x-python",
   "name": "python",
   "nbconvert_exporter": "python",
   "pygments_lexer": "ipython3",
   "version": "3.10.11"
  }
 },
 "nbformat": 4,
 "nbformat_minor": 2
}
