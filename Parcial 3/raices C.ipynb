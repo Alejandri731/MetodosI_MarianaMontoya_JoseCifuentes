{
 "cells": [
  {
   "cell_type": "code",
   "execution_count": 1,
   "metadata": {},
   "outputs": [],
   "source": [
    "%matplotlib ipympl \n",
    "import numpy as np\n",
    "import matplotlib.pyplot as plt\n",
    "import time\n",
    "import sympy as sym\n",
    "from math import e\n",
    "import matplotlib.animation as animation\n",
    "from tqdm import tqdm"
   ]
  },
  {
   "cell_type": "code",
   "execution_count": 2,
   "metadata": {},
   "outputs": [],
   "source": [
    "i=sym.I"
   ]
  },
  {
   "cell_type": "markdown",
   "metadata": {},
   "source": [
    "## Ejercicio 17"
   ]
  },
  {
   "cell_type": "code",
   "execution_count": 3,
   "metadata": {},
   "outputs": [],
   "source": [
    "x=sym.Symbol(\"x\", real=True)\n",
    "y=sym.Symbol(\"y\", real=True)\n",
    "C=729/10000\n",
    "z=x+i*y"
   ]
  },
  {
   "cell_type": "code",
   "execution_count": 4,
   "metadata": {},
   "outputs": [],
   "source": [
    "def f(x):\n",
    "    return sym.sin(x)**6 + C*sym.sin(x)**2 - C"
   ]
  },
  {
   "cell_type": "code",
   "execution_count": 5,
   "metadata": {},
   "outputs": [],
   "source": [
    "num=f(z)"
   ]
  },
  {
   "cell_type": "code",
   "execution_count": 6,
   "metadata": {},
   "outputs": [],
   "source": [
    "F=np.array([sym.re(num), sym.im(num)])"
   ]
  },
  {
   "cell_type": "code",
   "execution_count": 7,
   "metadata": {},
   "outputs": [
    {
     "data": {
      "text/latex": [
       "$\\displaystyle 30 \\sin^{5}{\\left(x \\right)} \\cos{\\left(x \\right)} \\sinh^{2}{\\left(y \\right)} \\cosh^{4}{\\left(y \\right)} + 6 \\sin^{5}{\\left(x \\right)} \\cos{\\left(x \\right)} \\cosh^{6}{\\left(y \\right)} - 60 \\sin^{3}{\\left(x \\right)} \\cos^{3}{\\left(x \\right)} \\sinh^{4}{\\left(y \\right)} \\cosh^{2}{\\left(y \\right)} - 60 \\sin^{3}{\\left(x \\right)} \\cos^{3}{\\left(x \\right)} \\sinh^{2}{\\left(y \\right)} \\cosh^{4}{\\left(y \\right)} + 6 \\sin{\\left(x \\right)} \\cos^{5}{\\left(x \\right)} \\sinh^{6}{\\left(y \\right)} + 30 \\sin{\\left(x \\right)} \\cos^{5}{\\left(x \\right)} \\sinh^{4}{\\left(y \\right)} \\cosh^{2}{\\left(y \\right)} + 0.1458 \\sin{\\left(x \\right)} \\cos{\\left(x \\right)} \\sinh^{2}{\\left(y \\right)} + 0.1458 \\sin{\\left(x \\right)} \\cos{\\left(x \\right)} \\cosh^{2}{\\left(y \\right)}$"
      ],
      "text/plain": [
       "30*sin(x)**5*cos(x)*sinh(y)**2*cosh(y)**4 + 6*sin(x)**5*cos(x)*cosh(y)**6 - 60*sin(x)**3*cos(x)**3*sinh(y)**4*cosh(y)**2 - 60*sin(x)**3*cos(x)**3*sinh(y)**2*cosh(y)**4 + 6*sin(x)*cos(x)**5*sinh(y)**6 + 30*sin(x)*cos(x)**5*sinh(y)**4*cosh(y)**2 + 0.1458*sin(x)*cos(x)*sinh(y)**2 + 0.1458*sin(x)*cos(x)*cosh(y)**2"
      ]
     },
     "execution_count": 7,
     "metadata": {},
     "output_type": "execute_result"
    }
   ],
   "source": [
    "sym.diff(F[0],x)"
   ]
  },
  {
   "cell_type": "code",
   "execution_count": 8,
   "metadata": {},
   "outputs": [],
   "source": [
    "def GetJacobian(fn):\n",
    "    \n",
    "    J=sym.Matrix([[ sym.diff(fn[0], x), sym.diff(fn[0], y)],\n",
    "               [sym.diff(fn[1], x), sym.diff(fn[1], y)]]) \n",
    "    \n",
    "    return J"
   ]
  },
  {
   "cell_type": "code",
   "execution_count": 9,
   "metadata": {},
   "outputs": [],
   "source": [
    "Jacb_sym = GetJacobian(F)"
   ]
  },
  {
   "cell_type": "code",
   "execution_count": 10,
   "metadata": {},
   "outputs": [
    {
     "data": {
      "text/latex": [
       "$\\displaystyle \\left[\\begin{matrix}30 \\sin^{5}{\\left(x \\right)} \\cos{\\left(x \\right)} \\sinh^{2}{\\left(y \\right)} \\cosh^{4}{\\left(y \\right)} + 6 \\sin^{5}{\\left(x \\right)} \\cos{\\left(x \\right)} \\cosh^{6}{\\left(y \\right)} - 60 \\sin^{3}{\\left(x \\right)} \\cos^{3}{\\left(x \\right)} \\sinh^{4}{\\left(y \\right)} \\cosh^{2}{\\left(y \\right)} - 60 \\sin^{3}{\\left(x \\right)} \\cos^{3}{\\left(x \\right)} \\sinh^{2}{\\left(y \\right)} \\cosh^{4}{\\left(y \\right)} + 6 \\sin{\\left(x \\right)} \\cos^{5}{\\left(x \\right)} \\sinh^{6}{\\left(y \\right)} + 30 \\sin{\\left(x \\right)} \\cos^{5}{\\left(x \\right)} \\sinh^{4}{\\left(y \\right)} \\cosh^{2}{\\left(y \\right)} + 0.1458 \\sin{\\left(x \\right)} \\cos{\\left(x \\right)} \\sinh^{2}{\\left(y \\right)} + 0.1458 \\sin{\\left(x \\right)} \\cos{\\left(x \\right)} \\cosh^{2}{\\left(y \\right)} & 6 \\sin^{6}{\\left(x \\right)} \\sinh{\\left(y \\right)} \\cosh^{5}{\\left(y \\right)} - 60 \\sin^{4}{\\left(x \\right)} \\cos^{2}{\\left(x \\right)} \\sinh^{3}{\\left(y \\right)} \\cosh^{3}{\\left(y \\right)} - 30 \\sin^{4}{\\left(x \\right)} \\cos^{2}{\\left(x \\right)} \\sinh{\\left(y \\right)} \\cosh^{5}{\\left(y \\right)} + 30 \\sin^{2}{\\left(x \\right)} \\cos^{4}{\\left(x \\right)} \\sinh^{5}{\\left(y \\right)} \\cosh{\\left(y \\right)} + 60 \\sin^{2}{\\left(x \\right)} \\cos^{4}{\\left(x \\right)} \\sinh^{3}{\\left(y \\right)} \\cosh^{3}{\\left(y \\right)} + 0.1458 \\sin^{2}{\\left(x \\right)} \\sinh{\\left(y \\right)} \\cosh{\\left(y \\right)} - 6 \\cos^{6}{\\left(x \\right)} \\sinh^{5}{\\left(y \\right)} \\cosh{\\left(y \\right)} - 0.1458 \\cos^{2}{\\left(x \\right)} \\sinh{\\left(y \\right)} \\cosh{\\left(y \\right)}\\\\- 6 \\sin^{6}{\\left(x \\right)} \\sinh{\\left(y \\right)} \\cosh^{5}{\\left(y \\right)} + 60 \\sin^{4}{\\left(x \\right)} \\cos^{2}{\\left(x \\right)} \\sinh^{3}{\\left(y \\right)} \\cosh^{3}{\\left(y \\right)} + 30 \\sin^{4}{\\left(x \\right)} \\cos^{2}{\\left(x \\right)} \\sinh{\\left(y \\right)} \\cosh^{5}{\\left(y \\right)} - 30 \\sin^{2}{\\left(x \\right)} \\cos^{4}{\\left(x \\right)} \\sinh^{5}{\\left(y \\right)} \\cosh{\\left(y \\right)} - 60 \\sin^{2}{\\left(x \\right)} \\cos^{4}{\\left(x \\right)} \\sinh^{3}{\\left(y \\right)} \\cosh^{3}{\\left(y \\right)} - 0.1458 \\sin^{2}{\\left(x \\right)} \\sinh{\\left(y \\right)} \\cosh{\\left(y \\right)} + 6 \\cos^{6}{\\left(x \\right)} \\sinh^{5}{\\left(y \\right)} \\cosh{\\left(y \\right)} + 0.1458 \\cos^{2}{\\left(x \\right)} \\sinh{\\left(y \\right)} \\cosh{\\left(y \\right)} & 30 \\sin^{5}{\\left(x \\right)} \\cos{\\left(x \\right)} \\sinh^{2}{\\left(y \\right)} \\cosh^{4}{\\left(y \\right)} + 6 \\sin^{5}{\\left(x \\right)} \\cos{\\left(x \\right)} \\cosh^{6}{\\left(y \\right)} - 60 \\sin^{3}{\\left(x \\right)} \\cos^{3}{\\left(x \\right)} \\sinh^{4}{\\left(y \\right)} \\cosh^{2}{\\left(y \\right)} - 60 \\sin^{3}{\\left(x \\right)} \\cos^{3}{\\left(x \\right)} \\sinh^{2}{\\left(y \\right)} \\cosh^{4}{\\left(y \\right)} + 6 \\sin{\\left(x \\right)} \\cos^{5}{\\left(x \\right)} \\sinh^{6}{\\left(y \\right)} + 30 \\sin{\\left(x \\right)} \\cos^{5}{\\left(x \\right)} \\sinh^{4}{\\left(y \\right)} \\cosh^{2}{\\left(y \\right)} + 0.1458 \\sin{\\left(x \\right)} \\cos{\\left(x \\right)} \\sinh^{2}{\\left(y \\right)} + 0.1458 \\sin{\\left(x \\right)} \\cos{\\left(x \\right)} \\cosh^{2}{\\left(y \\right)}\\end{matrix}\\right]$"
      ],
      "text/plain": [
       "Matrix([\n",
       "[     30*sin(x)**5*cos(x)*sinh(y)**2*cosh(y)**4 + 6*sin(x)**5*cos(x)*cosh(y)**6 - 60*sin(x)**3*cos(x)**3*sinh(y)**4*cosh(y)**2 - 60*sin(x)**3*cos(x)**3*sinh(y)**2*cosh(y)**4 + 6*sin(x)*cos(x)**5*sinh(y)**6 + 30*sin(x)*cos(x)**5*sinh(y)**4*cosh(y)**2 + 0.1458*sin(x)*cos(x)*sinh(y)**2 + 0.1458*sin(x)*cos(x)*cosh(y)**2, 6*sin(x)**6*sinh(y)*cosh(y)**5 - 60*sin(x)**4*cos(x)**2*sinh(y)**3*cosh(y)**3 - 30*sin(x)**4*cos(x)**2*sinh(y)*cosh(y)**5 + 30*sin(x)**2*cos(x)**4*sinh(y)**5*cosh(y) + 60*sin(x)**2*cos(x)**4*sinh(y)**3*cosh(y)**3 + 0.1458*sin(x)**2*sinh(y)*cosh(y) - 6*cos(x)**6*sinh(y)**5*cosh(y) - 0.1458*cos(x)**2*sinh(y)*cosh(y)],\n",
       "[-6*sin(x)**6*sinh(y)*cosh(y)**5 + 60*sin(x)**4*cos(x)**2*sinh(y)**3*cosh(y)**3 + 30*sin(x)**4*cos(x)**2*sinh(y)*cosh(y)**5 - 30*sin(x)**2*cos(x)**4*sinh(y)**5*cosh(y) - 60*sin(x)**2*cos(x)**4*sinh(y)**3*cosh(y)**3 - 0.1458*sin(x)**2*sinh(y)*cosh(y) + 6*cos(x)**6*sinh(y)**5*cosh(y) + 0.1458*cos(x)**2*sinh(y)*cosh(y),     30*sin(x)**5*cos(x)*sinh(y)**2*cosh(y)**4 + 6*sin(x)**5*cos(x)*cosh(y)**6 - 60*sin(x)**3*cos(x)**3*sinh(y)**4*cosh(y)**2 - 60*sin(x)**3*cos(x)**3*sinh(y)**2*cosh(y)**4 + 6*sin(x)*cos(x)**5*sinh(y)**6 + 30*sin(x)*cos(x)**5*sinh(y)**4*cosh(y)**2 + 0.1458*sin(x)*cos(x)*sinh(y)**2 + 0.1458*sin(x)*cos(x)*cosh(y)**2]])"
      ]
     },
     "execution_count": 10,
     "metadata": {},
     "output_type": "execute_result"
    }
   ],
   "source": [
    "Jacb_sym"
   ]
  },
  {
   "cell_type": "code",
   "execution_count": 11,
   "metadata": {},
   "outputs": [],
   "source": [
    "Jac_np = sym.lambdify([x,y],Jacb_sym,\"numpy\")"
   ]
  },
  {
   "cell_type": "code",
   "execution_count": 12,
   "metadata": {},
   "outputs": [],
   "source": [
    "F_np = sym.lambdify([x,y], sym.Matrix(F),\"numpy\")"
   ]
  },
  {
   "cell_type": "code",
   "execution_count": 13,
   "metadata": {},
   "outputs": [],
   "source": [
    "def raices(fn, z0, J, itmax=1000,error=1e-9):\n",
    "    \n",
    "    it = 0\n",
    "    d = 1.\n",
    "    dvector = []\n",
    "    cont=0\n",
    "    while d > error and it < itmax:\n",
    "        # Vector actual\n",
    "        zc = z0\n",
    "        F = fn(zc[0],zc[1]).T[0]\n",
    "        Jac = J(zc[0], zc[1])   \n",
    "        InvJ = np.linalg.inv(Jac)\n",
    "        \n",
    "        z0 = zc - np.dot(InvJ , F)\n",
    "        \n",
    "        diff = z0 - zc\n",
    "        \n",
    "        d = np.max( np.abs(diff) )\n",
    "        \n",
    "        dvector.append(d)\n",
    "        \n",
    "        it += 1\n",
    "    \n",
    "    #print(it)\n",
    "    return z0"
   ]
  },
  {
   "cell_type": "code",
   "execution_count": 14,
   "metadata": {},
   "outputs": [],
   "source": [
    "N=10\n",
    "x = list(np.linspace(-1,1,N))\n",
    "y = list(np.linspace(-1,1,N))\n",
    "\n",
    "Fractal = np.zeros((N,N), np.int64)\n",
    "n_im = round(np.sqrt(3)/2, 7)"
   ]
  },
  {
   "cell_type": "code",
   "execution_count": 15,
   "metadata": {},
   "outputs": [],
   "source": [
    "# [parte real - parte imaginaria]"
   ]
  },
  {
   "cell_type": "code",
   "execution_count": 19,
   "metadata": {},
   "outputs": [],
   "source": [
    "rai=[]\n",
    "for i in x:\n",
    "    for j in y:\n",
    "        p_x = x.index(i)\n",
    "        p_y = y.index(j)\n",
    "        r = raices(F_np, np.array([i , j]), Jac_np)\n",
    "\n",
    "        if (round(r[0],7), round(r[1],7)) not in rai:\n",
    "        #if r[1] == 0 and r[0]>=0 and r[0] not in rai:\n",
    "         rai.append((round(r[0],7), round(r[1],7)))  "
   ]
  },
  {
   "cell_type": "markdown",
   "metadata": {},
   "source": [
    "Solo se tomaron las raices con parte real positiva y parte imaginaria igual a cero."
   ]
  },
  {
   "cell_type": "code",
   "execution_count": 20,
   "metadata": {},
   "outputs": [
    {
     "data": {
      "text/plain": [
       "[(-0.6435011, 0.0),\n",
       " (-0.3217506, -0.5616155),\n",
       " (-5.6396842, 0.0),\n",
       " (-0.3217506, 0.5616155),\n",
       " (0.3217506, -0.5616155),\n",
       " (0.3217506, 0.5616155),\n",
       " (-2.8198421, 0.5616155),\n",
       " (-2.8198421, -0.5616155),\n",
       " (0.6435011, 0.0),\n",
       " (2.8198421, 0.5616155),\n",
       " (2.8198421, -0.5616155),\n",
       " (5.6396842, 0.0)]"
      ]
     },
     "execution_count": 20,
     "metadata": {},
     "output_type": "execute_result"
    }
   ],
   "source": [
    "rai"
   ]
  },
  {
   "cell_type": "markdown",
   "metadata": {},
   "source": [
    "Por simetria en los numeros imaginarios también se obtuvo el conjugado de las raices. Por esto 12 resultados."
   ]
  }
 ],
 "metadata": {
  "kernelspec": {
   "display_name": "Python 3",
   "language": "python",
   "name": "python3"
  },
  "language_info": {
   "codemirror_mode": {
    "name": "ipython",
    "version": 3
   },
   "file_extension": ".py",
   "mimetype": "text/x-python",
   "name": "python",
   "nbconvert_exporter": "python",
   "pygments_lexer": "ipython3",
   "version": "3.10.11"
  }
 },
 "nbformat": 4,
 "nbformat_minor": 2
}
