{
 "cells": [
  {
   "cell_type": "code",
   "execution_count": 87,
   "metadata": {},
   "outputs": [],
   "source": [
    "import numpy as np\n",
    "import sympy as sym\n",
    "import matplotlib.pyplot as plt\n"
   ]
  },
  {
   "cell_type": "markdown",
   "metadata": {},
   "source": [
    "## Punto 1"
   ]
  },
  {
   "cell_type": "code",
   "execution_count": 3,
   "metadata": {},
   "outputs": [],
   "source": [
    "def producto(A, B):\n",
    "    tam_A = np.shape(A)\n",
    "    tam_B = np.shape(B) \n",
    "\n",
    "    if tam_A[1] != tam_B[0]:\n",
    "        print(\"Las matrices no se pueden multiplicar.\")\n",
    "        \n",
    "    else:\n",
    "        C = np.empty((tam_A[0], tam_B[1]))\n",
    "        for filas in range(0,tam_A[0]):\n",
    "            for col in range(0,tam_B[1]):\n",
    "                C[filas,col] = np.dot(A[filas,:], B[:,col])\n",
    "        return C"
   ]
  },
  {
   "cell_type": "markdown",
   "metadata": {},
   "source": [
    "a)"
   ]
  },
  {
   "cell_type": "code",
   "execution_count": 4,
   "metadata": {},
   "outputs": [],
   "source": [
    "a = np.array([[5, -4, -2],\\\n",
    "            [5, -5, 4],\n",
    "             [2, 5, -4],\n",
    "             [-5, 4, 3],\n",
    "             [3, -4, -3]])\n",
    "\n",
    "b=np.array([[5],\n",
    "            [-2],\n",
    "            [-3]])"
   ]
  },
  {
   "cell_type": "code",
   "execution_count": 5,
   "metadata": {},
   "outputs": [
    {
     "data": {
      "text/plain": [
       "array([[ 39.],\n",
       "       [ 23.],\n",
       "       [ 12.],\n",
       "       [-42.],\n",
       "       [ 32.]])"
      ]
     },
     "execution_count": 5,
     "metadata": {},
     "output_type": "execute_result"
    }
   ],
   "source": [
    "producto(a,b)"
   ]
  },
  {
   "cell_type": "markdown",
   "metadata": {},
   "source": [
    "b)"
   ]
  },
  {
   "cell_type": "code",
   "execution_count": 6,
   "metadata": {},
   "outputs": [],
   "source": [
    "a2 = np.array([[0, -1, -1, 3],\\\n",
    "            [5, -5, -2, 2],\n",
    "             [1, 0, 4, 5]])\n",
    "\n",
    "b2 = np.array([[0, -3],\\\n",
    "            [-2, -1],\n",
    "             [3, -3],])"
   ]
  },
  {
   "cell_type": "code",
   "execution_count": 7,
   "metadata": {},
   "outputs": [
    {
     "name": "stdout",
     "output_type": "stream",
     "text": [
      "Las matrices no se pueden multiplicar.\n"
     ]
    }
   ],
   "source": [
    "producto(a2, b2)"
   ]
  },
  {
   "cell_type": "markdown",
   "metadata": {},
   "source": [
    "c)"
   ]
  },
  {
   "cell_type": "code",
   "execution_count": 8,
   "metadata": {},
   "outputs": [],
   "source": [
    "a3 = np.array([[2,-5,5,1],\\\n",
    "               [5,2,-7,-6],\n",
    "               [-6,-1,7,-4],\n",
    "               [5,4,1,-5]])\n",
    "\n",
    "b3 = np.array([[0,4,-7,1,-6],\\\n",
    "               [-1,-6,-5,1,1],\n",
    "               [2,-1,-6,5,-5],\n",
    "               [-3,-6,6,3,5]])"
   ]
  },
  {
   "cell_type": "code",
   "execution_count": 9,
   "metadata": {},
   "outputs": [
    {
     "data": {
      "text/plain": [
       "array([[ 12.,  27., -13.,  25., -37.],\n",
       "       [  2.,  51., -39., -46., -23.],\n",
       "       [ 27.,  -1., -19.,  16., -20.],\n",
       "       [ 13.,  25., -91.,  -1., -56.]])"
      ]
     },
     "execution_count": 9,
     "metadata": {},
     "output_type": "execute_result"
    }
   ],
   "source": [
    "producto(a3,b3)"
   ]
  },
  {
   "cell_type": "markdown",
   "metadata": {},
   "source": [
    "## Punto 2"
   ]
  },
  {
   "cell_type": "code",
   "execution_count": 10,
   "metadata": {},
   "outputs": [],
   "source": [
    "def reducir_a_triangular_superior(matriz):\n",
    "    n = len(matriz)\n",
    "    for i in range(n):\n",
    "        pivot = matriz[i][i]\n",
    "        if pivot != 0:\n",
    "            matriz[i] = matriz[i] / pivot\n",
    "\n",
    "        for j in range(i + 1, n):\n",
    "            factor = matriz[j][i]\n",
    "            matriz[j] = matriz[j] - factor * matriz[i]\n",
    "\n",
    "    return matriz\n",
    "\n"
   ]
  },
  {
   "cell_type": "code",
   "execution_count": 11,
   "metadata": {},
   "outputs": [],
   "source": [
    "def back_substitution(A, b):\n",
    "    '''\n",
    "    Args:\n",
    "        A (np.array): Matriz de coeficientes triangular superior\n",
    "        b (np.arra): vector de constantes\n",
    "        \n",
    "    '''\n",
    "\n",
    "    n = np.shape(A)[0]\n",
    "\n",
    "    x = np.zeros(n)\n",
    "\n",
    "    for i in range(n-1,-1,-1):\n",
    "        sum = b[i]\n",
    "        for j in range(n-1,i,-1):\n",
    "            sum -= A[i,j]*x[j]\n",
    "        x[i] = sum/A[i,i]\n",
    "\n",
    "    return x"
   ]
  },
  {
   "cell_type": "code",
   "execution_count": 12,
   "metadata": {},
   "outputs": [],
   "source": [
    "def Gauss_Jordan(A,b):\n",
    "    n = np.shape(A)[0]\n",
    "    M = np.zeros(shape=(n,n+1))\n",
    "    M[:,0:n] = A\n",
    "    M[:,n] = b\n",
    "    \n",
    "    reducida =reducir_a_triangular_superior(M)\n",
    "    resp = back_substitution(reducida[:,0:n], reducida[:,n])\n",
    "    \n",
    "    print(resp)\n",
    "    "
   ]
  },
  {
   "cell_type": "markdown",
   "metadata": {},
   "source": [
    "a."
   ]
  },
  {
   "cell_type": "code",
   "execution_count": 13,
   "metadata": {},
   "outputs": [],
   "source": [
    "A1 = np.array([[3,1,-1],\\\n",
    "            [1,-2,1],\n",
    "             [4,-1,1],])\n",
    "\n",
    "b1 = np.array([2,0,3])"
   ]
  },
  {
   "cell_type": "code",
   "execution_count": 14,
   "metadata": {},
   "outputs": [
    {
     "name": "stdout",
     "output_type": "stream",
     "text": [
      "[0.71428571 0.85714286 1.        ]\n"
     ]
    }
   ],
   "source": [
    "Gauss_Jordan(A1,b1)"
   ]
  },
  {
   "cell_type": "markdown",
   "metadata": {},
   "source": [
    "b."
   ]
  },
  {
   "cell_type": "code",
   "execution_count": 15,
   "metadata": {},
   "outputs": [],
   "source": [
    "A2 = np.array([[1,1,1],\\\n",
    "            [0,-8,10],\n",
    "             [4,-8,0],])\n",
    "\n",
    "b2 = np.array([0,0,6])"
   ]
  },
  {
   "cell_type": "code",
   "execution_count": 16,
   "metadata": {},
   "outputs": [
    {
     "name": "stdout",
     "output_type": "stream",
     "text": [
      "[ 0.71052632 -0.39473684 -0.31578947]\n"
     ]
    }
   ],
   "source": [
    "Gauss_Jordan(A2,b2)"
   ]
  },
  {
   "cell_type": "markdown",
   "metadata": {},
   "source": [
    "## Punto 3"
   ]
  },
  {
   "cell_type": "code",
   "execution_count": 44,
   "metadata": {},
   "outputs": [],
   "source": [
    "x0=np.array([1,1,1])\n",
    "\n",
    "A=np.array([[2,1,3],\n",
    "           [1,2,3],\n",
    "           [3,3,20]])"
   ]
  },
  {
   "cell_type": "code",
   "execution_count": 18,
   "metadata": {},
   "outputs": [],
   "source": [
    "Ai=np.linalg.inv(A)"
   ]
  },
  {
   "cell_type": "code",
   "execution_count": 49,
   "metadata": {},
   "outputs": [],
   "source": [
    "def vectorGeneral(x0, A, k):\n",
    "    x_n = x0\n",
    "    for i in range(k-1):\n",
    "        x_n = np.dot(A, x_n/np.linalg.norm(x_n))\n",
    "        \n",
    "    x_n1 = np.dot(A, x_n)\n",
    "    \n",
    "    resp = np.dot(x_n.T, x_n1) / np.dot(x_n.T, x_n )\n",
    "    \n",
    "    return np.abs(resp)"
   ]
  },
  {
   "cell_type": "code",
   "execution_count": 46,
   "metadata": {},
   "outputs": [],
   "source": [
    "def vector_sim(x0, A, k):\n",
    "    x_n = x0\n",
    "    for i in range(k-1):\n",
    "        #x_n = np.dot(A, x_n/(x_n[0]**2 + x_n[1]**2 +x_n[2]**2 )**0.5)\n",
    "        x_n = np.dot(A, x_n)\n",
    "    x_n1 = np.dot(A, x_n)\n",
    "    \n",
    "    resp = np.dot(x_n.T, x_n1) / np.dot(x_n.T, x_n )\n",
    "    \n",
    "    return np.abs(resp)"
   ]
  },
  {
   "cell_type": "code",
   "execution_count": 50,
   "metadata": {},
   "outputs": [
    {
     "data": {
      "text/plain": [
       "0.4999995679061639"
      ]
     },
     "execution_count": 50,
     "metadata": {},
     "output_type": "execute_result"
    }
   ],
   "source": [
    "vectorGeneral(x0, Ai, 4)"
   ]
  },
  {
   "cell_type": "code",
   "execution_count": 115,
   "metadata": {},
   "outputs": [],
   "source": [
    "a1=sym.Symbol(\"k11\")/sym.Symbol(\"m1\")\n",
    "a2=sym.Symbol(\"k12\")/sym.Symbol(\"m1\")\n",
    "a3=sym.Symbol(\"k13\")/sym.Symbol(\"m1\")\n",
    "a4=sym.Symbol(\"k21\")/sym.Symbol(\"m2\")\n",
    "a5=sym.Symbol(\"k22\")/sym.Symbol(\"m2\")\n",
    "a6=sym.Symbol(\"k23\")/sym.Symbol(\"m2\")\n",
    "a7=sym.Symbol(\"k31\")/sym.Symbol(\"m3\")\n",
    "a8=sym.Symbol(\"k32\")/sym.Symbol(\"m3\")\n",
    "a9=sym.Symbol(\"k33\")/sym.Symbol(\"m3\")\n",
    "\n",
    "k=sym.Symbol(\"k\")"
   ]
  },
  {
   "cell_type": "code",
   "execution_count": 121,
   "metadata": {},
   "outputs": [],
   "source": [
    "p=np.array([[a1,a2,a3],\n",
    "                 [a4,a5,a6],\n",
    "                 [a7,a8,a9]])"
   ]
  },
  {
   "cell_type": "code",
   "execution_count": 127,
   "metadata": {},
   "outputs": [],
   "source": [
    "vector_p=vector_sim(x0, p, 2)"
   ]
  },
  {
   "cell_type": "code",
   "execution_count": 128,
   "metadata": {},
   "outputs": [
    {
     "data": {
      "text/latex": [
       "$\\displaystyle \\left|{\\frac{\\frac{2 k^{3}}{m_{3}^{3}} + \\frac{2 k^{3}}{m_{1}^{3}}}{\\frac{k^{2}}{m_{3}^{2}} + \\frac{k^{2}}{m_{1}^{2}}}}\\right|$"
      ],
      "text/plain": [
       "Abs((2*k**3/m3**3 + 2*k**3/m1**3)/(k**2/m3**2 + k**2/m1**2))"
      ]
     },
     "execution_count": 128,
     "metadata": {},
     "output_type": "execute_result"
    }
   ],
   "source": [
    "vector_p.subs({\"k11\":-2*k, \"k22\":-2*k,\"k33\":-2*k,\n",
    "               \"k12\":k,\"k21\":k, \"k23\":k, \"k32\":k,\n",
    "               \"k13\":0, \"k31\":0})"
   ]
  }
 ],
 "metadata": {
  "kernelspec": {
   "display_name": "Python 3",
   "language": "python",
   "name": "python3"
  },
  "language_info": {
   "codemirror_mode": {
    "name": "ipython",
    "version": 3
   },
   "file_extension": ".py",
   "mimetype": "text/x-python",
   "name": "python",
   "nbconvert_exporter": "python",
   "pygments_lexer": "ipython3",
   "version": "3.10.11"
  }
 },
 "nbformat": 4,
 "nbformat_minor": 2
}
