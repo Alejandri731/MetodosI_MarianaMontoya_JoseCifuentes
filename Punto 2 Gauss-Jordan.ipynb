{
 "cells": [
  {
   "cell_type": "code",
   "execution_count": 7,
   "metadata": {},
   "outputs": [],
   "source": [
    "import numpy as np"
   ]
  },
  {
   "cell_type": "code",
   "execution_count": 8,
   "metadata": {},
   "outputs": [],
   "source": [
    "def reducir_a_triangular_superior(matriz):\n",
    "    n = len(matriz)\n",
    "    for i in range(n):\n",
    "        pivot = matriz[i][i]\n",
    "        if pivot != 0:\n",
    "            matriz[i] = matriz[i] / pivot\n",
    "\n",
    "        for j in range(i + 1, n):\n",
    "            factor = matriz[j][i]\n",
    "            matriz[j] = matriz[j] - factor * matriz[i]\n",
    "\n",
    "    return matriz\n",
    "\n"
   ]
  },
  {
   "cell_type": "code",
   "execution_count": 21,
   "metadata": {},
   "outputs": [],
   "source": [
    "def back_substitution(A, b):\n",
    "    '''\n",
    "    Args:\n",
    "        A (np.array): Matriz de coeficientes triangular superior\n",
    "        b (np.arra): vector de constantes\n",
    "        \n",
    "    '''\n",
    "\n",
    "    n = np.shape(A)[0]\n",
    "\n",
    "    x = np.zeros(n)\n",
    "\n",
    "    for i in range(n-1,-1,-1):\n",
    "        sum = b[i]\n",
    "        for j in range(n-1,i,-1):\n",
    "            sum -= A[i,j]*x[j]\n",
    "        x[i] = sum/A[i,i]\n",
    "\n",
    "    return x"
   ]
  },
  {
   "cell_type": "code",
   "execution_count": 23,
   "metadata": {},
   "outputs": [],
   "source": [
    "def Gauss_Jordan(A,b):\n",
    "    n = np.shape(A)[0]\n",
    "    M = np.zeros(shape=(n,n+1))\n",
    "    M[:,0:n] = A\n",
    "    M[:,n] = b\n",
    "    \n",
    "    reducida =reducir_a_triangular_superior(M)\n",
    "    resp = back_substitution(reducida[:,0:n], reducida[:,n])\n",
    "    \n",
    "    print(resp)\n",
    "    "
   ]
  },
  {
   "cell_type": "markdown",
   "metadata": {},
   "source": [
    "a."
   ]
  },
  {
   "cell_type": "code",
   "execution_count": 29,
   "metadata": {},
   "outputs": [],
   "source": [
    "A1 = np.array([[3,1,-1],\\\n",
    "            [1,-2,1],\n",
    "             [4,-1,1],])\n",
    "\n",
    "b1 = np.array([2,0,3])"
   ]
  },
  {
   "cell_type": "code",
   "execution_count": 30,
   "metadata": {},
   "outputs": [
    {
     "name": "stdout",
     "output_type": "stream",
     "text": [
      "[0.71428571 0.85714286 1.        ]\n"
     ]
    }
   ],
   "source": [
    "Gauss_Jordan(A1,b1)"
   ]
  },
  {
   "cell_type": "markdown",
   "metadata": {},
   "source": [
    "b."
   ]
  },
  {
   "cell_type": "code",
   "execution_count": 34,
   "metadata": {},
   "outputs": [],
   "source": [
    "A2 = np.array([[1,1,1],\\\n",
    "            [0,-8,10],\n",
    "             [4,-8,0],])\n",
    "\n",
    "b2 = np.array([0,0,6])"
   ]
  },
  {
   "cell_type": "code",
   "execution_count": 35,
   "metadata": {},
   "outputs": [
    {
     "name": "stdout",
     "output_type": "stream",
     "text": [
      "[ 0.71052632 -0.39473684 -0.31578947]\n"
     ]
    }
   ],
   "source": [
    "Gauss_Jordan(A2,b2)"
   ]
  }
 ],
 "metadata": {
  "kernelspec": {
   "display_name": "Python 3",
   "language": "python",
   "name": "python3"
  },
  "language_info": {
   "codemirror_mode": {
    "name": "ipython",
    "version": 3
   },
   "file_extension": ".py",
   "mimetype": "text/x-python",
   "name": "python",
   "nbconvert_exporter": "python",
   "pygments_lexer": "ipython3",
   "version": "3.10.11"
  }
 },
 "nbformat": 4,
 "nbformat_minor": 2
}
