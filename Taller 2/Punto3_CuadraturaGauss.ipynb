{
 "cells": [
  {
   "cell_type": "markdown",
   "metadata": {},
   "source": [
    "# Cuadratura Gaussiana"
   ]
  },
  {
   "cell_type": "code",
   "execution_count": 1,
   "metadata": {},
   "outputs": [],
   "source": [
    "import numpy as np\n",
    "import sympy as sym\n",
    "import math as m\n",
    "from math import e\n",
    "import matplotlib.pyplot as plt"
   ]
  },
  {
   "cell_type": "code",
   "execution_count": 2,
   "metadata": {},
   "outputs": [],
   "source": [
    "x = sym.Symbol('x',real=True)\n",
    "y = sym.Symbol('y',real=True)"
   ]
  },
  {
   "cell_type": "markdown",
   "metadata": {},
   "source": [
    "Seguimos con el problema de integrar una función $f(x)$ en cierto intervalo \\[a,b\\] mediante su cuadratura. Es decir, realizando una suma con pesos de la función en ciertos nodos\n",
    "\n",
    "$$\\begin{align*}\n",
    "\\int_a^b f(x) dx = \\sum_{k=0}^{n-1} c_k f(x_k)\n",
    "\\end{align*}\n",
    "$$"
   ]
  },
  {
   "cell_type": "markdown",
   "metadata": {},
   "source": [
    "## Gauss-Legendre"
   ]
  },
  {
   "cell_type": "markdown",
   "metadata": {},
   "source": [
    "La aproximación de Gauss-Legendre consiste en encontrar los $k$ nodos y pesos tal que \n",
    "    $$ \\begin{align*}\n",
    "        \\int_{-1}^1 f(x) dx &= \\sum_{k=0}^{n-1} c_k f(x_k) \n",
    "    \\end{align*}$$\n",
    "    Se puede demostrar que para $n$ nodos, estos están dados por los ceros de los *Polinomios de Legendre*, definidos mediante la fórmula de Rodrigues como\n",
    "\n",
    "$$ \\begin{align*}\n",
    "P_n(x) &= \\frac{1}{2^n n!} \\frac{d^n}{dx^n}(x^2-1)^n\n",
    "\\end{align*} $$\n",
    "\n",
    "A partir de esto, se puede crear una función en Python que retorne el $n$-ésimo polinomio de Legendre."
   ]
  },
  {
   "cell_type": "code",
   "execution_count": 3,
   "metadata": {},
   "outputs": [],
   "source": [
    "def GetLegendre(n,x,y):\n",
    "    \n",
    "    y = (x**2 - 1)**n\n",
    "    \n",
    "    poly = sym.diff( y,x,n )/(2**n*np.math.factorial(n))\n",
    "    \n",
    "    return poly"
   ]
  },
  {
   "cell_type": "markdown",
   "metadata": {},
   "source": [
    "Los polinomios de Legendre también satisfacen la ecuación de recursión\n",
    "\n",
    "$$\n",
    "\\begin{align*}\n",
    "(n+1)P_{n+1}(x) &= (2n+1)xP_n(x)-nP_{n-1}(x),\n",
    "\\end{align*}\n",
    "$$\n",
    "\n",
    "por lo que se puede escribir la función anterior de forma recursiva."
   ]
  },
  {
   "cell_type": "code",
   "execution_count": 4,
   "metadata": {},
   "outputs": [],
   "source": [
    "def GetLegendreRecursive(n,x):\n",
    "\n",
    "    if n==0:\n",
    "        poly = sym.Number(1)\n",
    "    elif n==1:\n",
    "        poly = x\n",
    "    else:\n",
    "        poly = ((2*n-1)*x*GetLegendreRecursive(n-1,x)-(n-1)*GetLegendreRecursive(n-2,x))/n\n",
    "   \n",
    "    return sym.expand(poly,x)"
   ]
  },
  {
   "cell_type": "markdown",
   "metadata": {},
   "source": [
    "Veamos un ejemplo de estos polinomios para distintos $n$,"
   ]
  },
  {
   "cell_type": "code",
   "execution_count": 5,
   "metadata": {},
   "outputs": [
    {
     "data": {
      "text/latex": [
       "$\\displaystyle 1$"
      ],
      "text/plain": [
       "1"
      ]
     },
     "execution_count": 5,
     "metadata": {},
     "output_type": "execute_result"
    }
   ],
   "source": [
    "GetLegendreRecursive(0,x)"
   ]
  },
  {
   "cell_type": "code",
   "execution_count": 6,
   "metadata": {},
   "outputs": [
    {
     "data": {
      "text/latex": [
       "$\\displaystyle x$"
      ],
      "text/plain": [
       "x"
      ]
     },
     "execution_count": 6,
     "metadata": {},
     "output_type": "execute_result"
    }
   ],
   "source": [
    "GetLegendreRecursive(1,x)"
   ]
  },
  {
   "cell_type": "code",
   "execution_count": 7,
   "metadata": {},
   "outputs": [
    {
     "data": {
      "text/latex": [
       "$\\displaystyle \\frac{5 x^{3}}{2} - \\frac{3 x}{2}$"
      ],
      "text/plain": [
       "5*x**3/2 - 3*x/2"
      ]
     },
     "execution_count": 7,
     "metadata": {},
     "output_type": "execute_result"
    }
   ],
   "source": [
    "GetLegendreRecursive(3,x)"
   ]
  },
  {
   "cell_type": "markdown",
   "metadata": {},
   "source": [
    "Para encontrar sus ceros, utilizamos el método de Newton-Rhapson teniendo en cuenta que el $n$-ésimo polinomio tendrá $n$ raíces. Antes de eso, encontremos la derivada de Legendre,"
   ]
  },
  {
   "cell_type": "code",
   "execution_count": 8,
   "metadata": {},
   "outputs": [],
   "source": [
    "def GetDLegendre(n,x):\n",
    "    Pn = GetLegendreRecursive(n,x)\n",
    "    return sym.diff(Pn,x,1)"
   ]
  },
  {
   "cell_type": "code",
   "execution_count": 9,
   "metadata": {},
   "outputs": [],
   "source": [
    "def GetNewton(f,df,xn,itmax=10000,precision=1e-14):\n",
    "    \n",
    "    error = 1.\n",
    "    it = 0\n",
    "    \n",
    "    while error >= precision and it < itmax:\n",
    "        \n",
    "        try:\n",
    "            \n",
    "            xn1 = xn - f(xn)/df(xn)\n",
    "            \n",
    "            error = np.abs(f(xn)/df(xn))\n",
    "            \n",
    "        except ZeroDivisionError:\n",
    "            print('Zero Division')\n",
    "            \n",
    "        xn = xn1\n",
    "        it += 1\n",
    "        \n",
    "    if it == itmax:\n",
    "        return False\n",
    "    else:\n",
    "        return xn"
   ]
  },
  {
   "cell_type": "code",
   "execution_count": 10,
   "metadata": {},
   "outputs": [],
   "source": [
    "def GetRoots(f,df,x,tolerancia = 10):\n",
    "    \n",
    "    Roots = np.array([])\n",
    "    \n",
    "    for i in x:\n",
    "        \n",
    "        root = GetNewton(f,df,i)\n",
    "\n",
    "        if  type(root)!=bool:\n",
    "            croot = np.round( root, tolerancia )\n",
    "            \n",
    "            if croot not in Roots:\n",
    "                Roots = np.append(Roots, croot)\n",
    "                \n",
    "    Roots.sort()\n",
    "    \n",
    "    return Roots"
   ]
  },
  {
   "cell_type": "code",
   "execution_count": 11,
   "metadata": {},
   "outputs": [],
   "source": [
    "def GetAllRootsGLeg(n):\n",
    "\n",
    "    xn = np.linspace(-1,1,100)\n",
    "    \n",
    "    Legendre = []\n",
    "    DLegendre = []\n",
    "    \n",
    "    for i in range(n+1):\n",
    "        Legendre.append(GetLegendreRecursive(i,x))\n",
    "        DLegendre.append(GetDLegendre(i,x))\n",
    "    \n",
    "    poly = sym.lambdify([x],Legendre[n],'numpy')\n",
    "    Dpoly = sym.lambdify([x],DLegendre[n],'numpy')\n",
    "    Roots = GetRoots(poly,Dpoly,xn)\n",
    "\n",
    "    if len(Roots) != n:\n",
    "        ValueError('El número de raíces debe ser igual al n del polinomio.')\n",
    "    \n",
    "    return Roots"
   ]
  },
  {
   "cell_type": "code",
   "execution_count": 12,
   "metadata": {},
   "outputs": [
    {
     "data": {
      "text/plain": [
       "array([-0.77459667,  0.        ,  0.77459667])"
      ]
     },
     "execution_count": 12,
     "metadata": {},
     "output_type": "execute_result"
    }
   ],
   "source": [
    "GetAllRootsGLeg(3)"
   ]
  },
  {
   "cell_type": "markdown",
   "metadata": {},
   "source": [
    "Los pesos de Gauss-Legendre están dados a su vez por \n",
    "    $$ \\begin{align*}\n",
    "        c_k &= \\frac{2}{(1-x_k^2)[P_n'(x_k)]^2}\n",
    "    \\end{align*}$$\n",
    "    donde $x_k$ es el $k$-ésimo cero del polinomio $n$-ésimo de Legendre, por lo que se puede escribir una función en python que dado un $n$, retorne el arreglo de pesos de Gauss-Legendre. "
   ]
  },
  {
   "cell_type": "code",
   "execution_count": 13,
   "metadata": {},
   "outputs": [],
   "source": [
    "def GetWeightsGLeg(n):\n",
    "\n",
    "    Roots = GetAllRootsGLeg(n)\n",
    "\n",
    "    \n",
    "\n",
    "    DLegendre = []\n",
    "    \n",
    "    for i in range(n+1):\n",
    "        DLegendre.append(GetDLegendre(i,x))\n",
    "    \n",
    "    Dpoly = sym.lambdify([x],DLegendre[n],'numpy')\n",
    "    Weights = 2/((1-Roots**2)*Dpoly(Roots)**2)\n",
    "    \n",
    "    return Weights"
   ]
  },
  {
   "cell_type": "code",
   "execution_count": 14,
   "metadata": {},
   "outputs": [],
   "source": [
    "raices = GetAllRootsGLeg(5)"
   ]
  },
  {
   "cell_type": "code",
   "execution_count": 15,
   "metadata": {},
   "outputs": [],
   "source": [
    "pesos = GetWeightsGLeg(5)"
   ]
  },
  {
   "cell_type": "code",
   "execution_count": 16,
   "metadata": {},
   "outputs": [],
   "source": [
    "funcion = lambda x: x**4"
   ]
  },
  {
   "cell_type": "code",
   "execution_count": 17,
   "metadata": {},
   "outputs": [],
   "source": [
    "I = 0\n",
    "for i in range(5):\n",
    "    I += pesos[i]*funcion(raices[i])"
   ]
  },
  {
   "cell_type": "code",
   "execution_count": 18,
   "metadata": {},
   "outputs": [
    {
     "data": {
      "text/plain": [
       "0.40000000006796044"
      ]
     },
     "execution_count": 18,
     "metadata": {},
     "output_type": "execute_result"
    }
   ],
   "source": [
    "I"
   ]
  },
  {
   "cell_type": "markdown",
   "metadata": {},
   "source": [
    "## Gauss-Laguerrre"
   ]
  },
  {
   "cell_type": "markdown",
   "metadata": {},
   "source": [
    "La aproximación de Gauss-Laguerre consiste en encontrar los $k$ nodos y pesos tal que \n",
    "    $$ \\begin{align*}\n",
    "        \\int_{0}^\\infty e^{-x} f(x) dx &= \\sum_{k=0}^{n-1} c_k f(x_k) \n",
    "    \\end{align*}$$\n",
    "    Se puede demostrar que para $n$ nodos, estos están dados por los ceros de los *Polinomios de Laguerre*, definidos mediante la fórmula de Rodrigues como\n",
    "\n",
    "$$ \\begin{align*}\n",
    "L_n(x) &= \\frac{e^x}{n!} \\frac{d^n}{dx^n}(e^{-x}x^n)\n",
    "\\end{align*} $$\n",
    "\n",
    "A partir de esto, se puede crear una función en Python que retorne el $n$-ésimo polinomio de Laguerre. Los polinomios de Laguerre también satisfacen la ecuación de recursión\n",
    "\n",
    "$$\n",
    "\\begin{align*}\n",
    "L_{k+1} &= \\frac{(2k+1-x)L_k(x)-kL_{k-1}(x)}{k+1}\n",
    "\\end{align*}\n",
    "$$\n",
    "\n",
    "por lo que se puede escribir la función anterior de forma recursiva teniendo en cuenta que $L_0(x)=1, L_1(x)=1-x$.\n",
    "\n",
    "**Ejercicio 3.1**\n",
    "1. Escriba una función `GetLaguerre(n,x)` que retorne el $n$-ésimo polinomio de Laguerre de forma recursiva.\n",
    "2. Escriba una función `GetAllRootsGLag(n)` que encuentre todas las raíces del $n$-ésimo polinomio de Laguerre. Para esto, utilize el hecho de que las raíces están acotadas en el intervalo $(0,n+(n-1)\\sqrt{n})$\n",
    "3. Escriba una función `GetWeightsGLag(n)` que encuentre los $n$-pesos del $n$-ésimo polinomio de Laguerre. Tenga en cuenta que estos pesos están dados por \n",
    "$$\n",
    "\\begin{align*}\n",
    "c_k &= \\frac{x_k}{(n+1)^2 [L_{n+1}(x_k)]^2}\n",
    "\\end{align*}\n",
    "$$\n"
   ]
  },
  {
   "cell_type": "markdown",
   "metadata": {},
   "source": [
    "## Gauss-Hermite"
   ]
  },
  {
   "cell_type": "markdown",
   "metadata": {},
   "source": [
    "La aproximación de Gauss-Hermite consiste en encontrar los $k$ nodos y pesos tal que \n",
    "    $$ \\begin{align*}\n",
    "        \\int_{-\\infty}^\\infty e^{-x^2} f(x) dx &= \\sum_{k=0}^{n-1} c_k f(x_k) \n",
    "    \\end{align*}$$\n",
    "    Se puede demostrar que para $n$ nodos, estos están dados por los ceros de los *Polinomios de Hermite*, definidos mediante la fórmula de Rodrigues como\n",
    "\n",
    "$$ \\begin{align*}\n",
    "H_n(x) &= (-1)^n e^{x^2} \\frac{d^n}{dx^n}e^{-x^2}\n",
    "\\end{align*} $$\n",
    "\n",
    "A partir de esto, se puede crear una función en Python que retorne el $n$-ésimo polinomio de Hermite. Los polinomios de Hermite también satisfacen la ecuación de recursión\n",
    "\n",
    "$$\n",
    "\\begin{align*}\n",
    "H_{n+1}(x) = 2xH_n(x)-2nH_{n-1}(x)\n",
    "\\end{align*}\n",
    "$$\n",
    "\n",
    "por lo que se puede escribir la función anterior de forma recursiva teniendo en cuenta que $H_0(x)=1, H_1(x)=2x$.\n",
    "\n",
    "**Ejercicio 3.2**\n",
    "1. Escriba una función `GetHermite(n,x)` que retorne el $n$-ésimo polinomio de Hermite de forma recursiva.\n",
    "2. Escriba una función `GetAllRootsGHer(n)` que encuentre todas las raíces del $n$-ésimo polinomio de Hermite. Para esto, utilize el hecho de que las raíces están acotadas en el intervalo $(-\\sqrt{4n+1},\\sqrt{4n+1})$\n",
    "3. Escriba una función `GetWeightsGHer(n)` que encuentre los $n$-pesos del $n$-ésimo polinomio de Hermite. Tenga en cuenta que estos pesos están dados por \n",
    "$$\n",
    "\\begin{align*}\n",
    "c_k &= \\frac{2^{n-1}n! \\sqrt{\\pi}}{n^2[H_{n-1}(x_k)]^2}\n",
    "\\end{align*}\n",
    "$$\n"
   ]
  },
  {
   "cell_type": "markdown",
   "metadata": {},
   "source": [
    "## Aplicaciones"
   ]
  },
  {
   "cell_type": "markdown",
   "metadata": {},
   "source": [
    "### Utilizando la cuadratura **Gauss-Laguerre**, resuelva:"
   ]
  },
  {
   "cell_type": "markdown",
   "metadata": {},
   "source": [
    "En 1852, el físico escocés James Clerk Maxwell describió la distribución de velocidades de moléculas de un gas como \n",
    "\n",
    "$$\n",
    "\\begin{align*}\n",
    "    P(v) &= 4\\pi \\left( \\frac{M}{2\\pi R T} \\right)^{3/2} v^2 \\exp \\left( - \\frac{Mv^2}{2RT} \\right)\n",
    "\\end{align*}\n",
    "$$\n",
    "\n",
    "\n",
    "1. Demuestre que $\\int_0^\\infty P(v) dv =1$, es decir, que es una distribución de probabilidad.\n",
    "2. Grafique $P(v)$ para distintas temperaturas. ¿Qué puede decir de la velocidad más probable (con mayor $P(v)$) a medida que aumenta la temperatura?\n",
    "3. Para 10 distintas temperaturas, encuentre la *velocidad promedio*\n",
    "    \n",
    "$$\n",
    "\\begin{align*}\n",
    "v_{avg} &= \\int_0^\\infty vP(v) dv\n",
    "    \\end{align*}\n",
    "$$\n",
    "\n",
    "Grafique (en escala logarítmica) $v_{avg}$ y $T$ y verifique que se cumple\n",
    "\n",
    "$$\n",
    "\\begin{align*}\n",
    "    v_{avg} &= \\sqrt{\\frac{8RT}{\\pi M}}\n",
    "\\end{align*}\n",
    "$$\n",
    "4. Para 10 distintas temperaturas, encuentre la \\textit{velocidad media cuadrática }\n",
    "$$\n",
    "\\begin{align*}\n",
    "        v_{rms} &= \\sqrt{\\int_{0}^\\infty v^2 P(v) dv} \n",
    "    \\end{align*}\n",
    "$$\n",
    "\n",
    "Grafique (en escala logarítmica) $v_{rms}$ y $T$ y verifique que se cumple\n",
    "\n",
    "$$\n",
    "\\begin{align*}\n",
    "        v_{rms} &= \\sqrt{\\frac{3RT}{M}}\n",
    "    \\end{align*}\n",
    "$$\n",
    "5. Usando lo anterior, demuestre que la energía interna de un gas está dada por $E_{int}=\\frac{3}{2}nRT$"
   ]
  },
  {
   "cell_type": "markdown",
   "metadata": {},
   "source": [
    "## 3.1 Cuadratura Gauss-Laguerre"
   ]
  },
  {
   "cell_type": "code",
   "execution_count": 19,
   "metadata": {},
   "outputs": [],
   "source": [
    "def GetLaguerre(n,x):\n",
    "    if n==0:\n",
    "        poly = sym.Number(1)\n",
    "    elif n==1:\n",
    "        poly = 1-x\n",
    "    else:\n",
    "        poly =  ((2*n-1-x)*GetLaguerre(n-1,x)-(n-1)*GetLaguerre(n-2,x))/n\n",
    "   \n",
    "    return sym.expand(poly,x)"
   ]
  },
  {
   "cell_type": "code",
   "execution_count": 20,
   "metadata": {},
   "outputs": [],
   "source": [
    "def GetDLaguerre(n,x):\n",
    "    Pn = GetLaguerre(n,x)\n",
    "    return sym.diff(Pn,x,1)"
   ]
  },
  {
   "cell_type": "code",
   "execution_count": 21,
   "metadata": {},
   "outputs": [],
   "source": [
    "def GetAllRootsGLag(n):\n",
    "\n",
    "    xn = np.linspace(0, n + np.sqrt(n)*(n-1),100)\n",
    "    \n",
    "    Laguerre = []\n",
    "    DLaguerre = []\n",
    "    \n",
    "    for i in range(n+1):\n",
    "        Laguerre.append(GetLaguerre(i,x))\n",
    "        DLaguerre.append(GetDLaguerre(i,x))\n",
    "    \n",
    "    poly = sym.lambdify([x],Laguerre[n],'numpy')\n",
    "    Dpoly = sym.lambdify([x],DLaguerre[n],'numpy')\n",
    "    Roots = GetRoots(poly,Dpoly,xn)\n",
    "\n",
    "    if len(Roots) != n:\n",
    "        ValueError('El número de raíces debe ser igual al n del polinomio.')\n",
    "    \n",
    "    return Roots"
   ]
  },
  {
   "cell_type": "code",
   "execution_count": 22,
   "metadata": {},
   "outputs": [],
   "source": [
    "def GetWeightsGLag(n):\n",
    "\n",
    "    Roots = GetAllRootsGLag(n)\n",
    "    \n",
    "    Laguerre = GetLaguerre(n+1, x)\n",
    "    \n",
    "    Lpoly = sym.lambdify([x],Laguerre,'numpy')\n",
    "    Weights = Roots/((n+1)**(2) * (Lpoly(Roots))**2)\n",
    "    \n",
    "    return Weights\n"
   ]
  },
  {
   "cell_type": "code",
   "execution_count": 23,
   "metadata": {},
   "outputs": [],
   "source": [
    "funcion = lambda u: 2*np.sqrt(u/np.pi)"
   ]
  },
  {
   "cell_type": "code",
   "execution_count": 24,
   "metadata": {},
   "outputs": [],
   "source": [
    "raiz =GetAllRootsGLag(6)\n",
    "Lpesos = GetWeightsGLag(6)"
   ]
  },
  {
   "cell_type": "code",
   "execution_count": 25,
   "metadata": {},
   "outputs": [],
   "source": [
    "H = 0\n",
    "for i in range(6):\n",
    "    H += Lpesos[i]*funcion(raiz[i])"
   ]
  },
  {
   "cell_type": "code",
   "execution_count": 26,
   "metadata": {},
   "outputs": [
    {
     "data": {
      "text/plain": [
       "1.007976056879525"
      ]
     },
     "execution_count": 26,
     "metadata": {},
     "output_type": "execute_result"
    }
   ],
   "source": [
    "H"
   ]
  },
  {
   "cell_type": "markdown",
   "metadata": {},
   "source": [
    "## 3.1 Cuadratura Gauss-Hermite"
   ]
  },
  {
   "cell_type": "code",
   "execution_count": 27,
   "metadata": {},
   "outputs": [],
   "source": [
    "def GetHermite(n,x):\n",
    "    if n==0:\n",
    "        poly = sym.Number(1)\n",
    "    elif n==1:\n",
    "        poly= 2*x\n",
    "    \n",
    "    else:  \n",
    "        y=GetHermite(n-1,x)\n",
    "        poly = 2 * x * y - sym.diff(y, x, 1)\n",
    "        \n",
    "    return sym.expand(poly,x)\n",
    "    "
   ]
  },
  {
   "cell_type": "code",
   "execution_count": 28,
   "metadata": {},
   "outputs": [],
   "source": [
    "def GetDHermite(n,x):\n",
    "    Pn = GetHermite(n,x)\n",
    "    return sym.diff(Pn,x,1)"
   ]
  },
  {
   "cell_type": "code",
   "execution_count": 29,
   "metadata": {},
   "outputs": [],
   "source": [
    "def  GetAllRootsGHer(n):\n",
    "\n",
    "    xn = np.linspace(-np.sqrt(4*n+1),np.sqrt(4*n+1), 100)\n",
    "    \n",
    "    Hermite = []\n",
    "    DHermite = []\n",
    "    \n",
    "    for i in range(n+1):\n",
    "        Hermite.append(GetHermite(i,x))\n",
    "        DHermite.append(GetDHermite(i,x))\n",
    "    \n",
    "    poly = sym.lambdify([x],Hermite[n],'numpy')\n",
    "    Dpoly = sym.lambdify([x],DHermite[n],'numpy')\n",
    "    Roots = GetRoots(poly,Dpoly,xn)\n",
    "\n",
    "    if len(Roots) != n:\n",
    "        ValueError('El número de raíces debe ser igual al n del polinomio.')\n",
    "    \n",
    "    return Roots"
   ]
  },
  {
   "cell_type": "code",
   "execution_count": 30,
   "metadata": {},
   "outputs": [],
   "source": [
    "def GetWeightsGHer(n):\n",
    "    Hermite = GetHermite(n-1,x)\n",
    "    Roots = GetAllRootsGHer(n)\n",
    "    \n",
    "    Hpoly = sym.lambdify([x],Hermite,'numpy')\n",
    "    \n",
    "    return (2**(n-1)*m.factorial(n)*np.sqrt(np.pi))/(n**(2) * Hpoly(Roots)**2)\n",
    "    "
   ]
  },
  {
   "cell_type": "markdown",
   "metadata": {},
   "source": [
    "## 3.3 Aplicación"
   ]
  },
  {
   "cell_type": "code",
   "execution_count": 31,
   "metadata": {},
   "outputs": [
    {
     "name": "stderr",
     "output_type": "stream",
     "text": [
      "C:\\Users\\aleja\\AppData\\Local\\Temp\\ipykernel_12568\\1965036435.py:6: RuntimeWarning: invalid value encountered in power\n",
      "  return 4*m.pi*(M/(2*m.pi*R*T))**(3/2) * v**(2) * m.e**((-M*v**2)/(2*R*T))\n"
     ]
    },
    {
     "data": {
      "image/png": "[encoded data removed]",
      "text/plain": [
       "<Figure size 640x480 with 1 Axes>"
      ]
     },
     "metadata": {},
     "output_type": "display_data"
    }
   ],
   "source": [
    "R = 8.31\n",
    "M = 3\n",
    "v = 2\n",
    "T = np.linspace(-100,1000,50)\n",
    "def funcion_gas(M,R,T,v):\n",
    "    return 4*m.pi*(M/(2*m.pi*R*T))**(3/2) * v**(2) * m.e**((-M*v**2)/(2*R*T))\n",
    "\n",
    "#1 demostracion\n",
    "'''\n",
    "def funcion_u(M,R,T,v):\n",
    "    return 4*m.pi*(M*(1/2)/(2(1/2)*m.pi(3/2)*R(1/2)*T*(1/2)))\n",
    "\n",
    "def GetLegendreRecursive(n,x):\n",
    "\n",
    "    if n==0:\n",
    "        poly = sym.Number(1)\n",
    "    elif n==1:\n",
    "        poly = x\n",
    "    else:\n",
    "        poly = ((2*n-1)*x*GetLegendreRecursive(n-1,x)-(n-1)*GetLegendreRecursive(n-2,x))/n\n",
    "   \n",
    "    return sym.expand(poly,x)\n",
    "sustitucion = GetLegendreRecursive()\n",
    "'''\n",
    "\n",
    "#2\n",
    "'''\n",
    "Grafique P(v) para distintas temperaturas. ¿Que puede decir de la velocidad mas probable (con mayor\n",
    "P(v)) a medida que aumenta la temperatura?\n",
    "'''\n",
    "\n",
    "plt.plot(T,funcion_gas(M,R,T,v))\n",
    "plt.show()"
   ]
  }
 ],
 "metadata": {
  "kernelspec": {
   "display_name": "base",
   "language": "python",
   "name": "python3"
  },
  "language_info": {
   "codemirror_mode": {
    "name": "ipython",
    "version": 3
   },
   "file_extension": ".py",
   "mimetype": "text/x-python",
   "name": "python",
   "nbconvert_exporter": "python",
   "pygments_lexer": "ipython3",
   "version": "3.10.11"
  },
  "orig_nbformat": 4
 },
 "nbformat": 4,
 "nbformat_minor": 2
}
