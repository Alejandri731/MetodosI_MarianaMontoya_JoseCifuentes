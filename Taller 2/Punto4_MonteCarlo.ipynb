{
 "cells": [
  {
   "cell_type": "markdown",
   "metadata": {},
   "source": [
    "El método Monte Carlo fue desarrollado por los físicos y matemáticos Stanislaw Ulam (Polonia) y John Von Neumman (Hungría) para el diseño de la bomba de hidrógeno en el Laboratorio Nacional de Los Álamos (LANL). Paralelamente, Enrico Fermi  lo estudió paralelamente al estudiar la difusión de neutrones. En la clase de hoy, usted deberá desarrollar tres ejercicios similares para comprender el método de la integración de Monte Carlo y llegar a una ecuación relacionada con el cálculo de transporte de neutrones."
   ]
  },
  {
   "cell_type": "markdown",
   "metadata": {},
   "source": [
    "# Integración de Monte Carlo\n",
    "\n",
    "La integración de Monte Carlo es un método no determinista para el cálculo de integrales. Primero, estudiaremos sus fundamentos teóricos y mostraremos aplicaciones prácticas para una dimensión y para varias dimensiones."
   ]
  },
  {
   "cell_type": "markdown",
   "metadata": {},
   "source": [
    "El valor promedio de una integral en un intervalo $[a,b]$ está dado por \n",
    "\n",
    "$$\\begin{equation}\n",
    "\\mathbb{E}[f(x)] = \\frac{1}{b-a}\\int_a^b f(x) dx\n",
    "\\end{equation}$$\n",
    "\n",
    "Llamaremos a esto la **media poblacional**. Similarmente, la **varianza poblacional** está dada por \n",
    "\n",
    "$$\\begin{align*}\n",
    "\\mathbb{V}[f(x)] &= \\mathbb{E}[f^2(x)] -\\mathbb{E}[f(x)]^2 \\\\\n",
    "\\mathbb{V}[f(x)] &= \\frac{1}{b-a}\\int_a^b f^2(x) dx - \\left(\\frac{1}{b-a} \\int_a^b f(x)dx \\right)^2\n",
    "\\end{align*}$$\n",
    "\n",
    "Esta última está relacionada con la **desviación estándar poblacional** mediante $\\sigma = \\sqrt{\\mathbb{V}[f(x)]}$."
   ]
  },
  {
   "cell_type": "markdown",
   "metadata": {},
   "source": [
    "En estadística, es sencillamente impractico o hasta imposible medir la media y la varianza de toda la población por lo que se selecciona una muestra de tamaño $n$ para estimarlos. Para esto, se toman $x_0$, $x_1$,...,$x_{n-1}$ que sean *independientes e idénticamente distribuidos* o *iid* y se calcula la **media muestral** como \n",
    "\n",
    "$$\\begin{align*} \\overline{f} &= \\frac{1}{n}\\sum_{i=0}^{n-1}f(x_i) \\end{align*}$$\n",
    "\n",
    "Es facil ver que esta media muestral estima la media poblacional pues $\\mathbb{E}[\\overline{f}] = \\mathbb{E}[f(x)]$, mientras que las varianzas están relacionadas por\n",
    "\n",
    "$$\\begin{align*} \\mathbb{V}[\\overline{f}] = \\frac{1}{n} \\mathbb{V} [f(x)] \\end{align*}$$\n",
    "\n",
    "Con lo que vemos que $\\sigma_{\\overline{f}} = \\frac{1}{\\sqrt{n}} \\sigma_f$. En general vemos entonces que $\\mathbb{E}[f(x)] = \\overline{f} \\pm \\sigma_{\\overline{f}}$"
   ]
  },
  {
   "cell_type": "markdown",
   "metadata": {},
   "source": [
    "\n",
    "Por la ley de grandes número de estadística, entre más grande sea nuestro $n$, la media muestral aproxima mejor a la media poblacional. Es decir que cuando $n\\to\\infty$, \n",
    "\n",
    "$$\n",
    "\\begin{align*}\n",
    "\\mathbb{E}[f(x)] &\\approx \\overline{f} \\\\\n",
    "\\frac{1}{b-a} \\int_a^b f(x) dx &\\approx \\frac{1}{n} \\sum_{i=0}^{n-1} f(x_i) \\\\\n",
    "\\int_a^b f(x) dx &\\approx \\frac{b-a}{n} \\sum_{i=0}^{n-1} f(x_i)\n",
    "\\end{align*}\n",
    "$$\n",
    "\n",
    "con un intervalo de confianza de $\\pm (b-a) \\sigma_{\\overline{f}}$, esto último dado por \n",
    "\n",
    "$$ (b-a) \\sigma_{\\overline{f}} = \\frac{b-a}{\\sqrt{n-1}} \\sqrt{\\frac{1}{n} \\sum_{i=0}^{n-1}f^2(x) - \\left[ \\frac{1}{n} \\sum_{i=0}^{n-1} f(x_i) \\right]^2 } $$"
   ]
  },
  {
   "cell_type": "markdown",
   "metadata": {},
   "source": [
    "## Implementado el método de Monte Carlo en 1D\n",
    "Veamos entonces un ejemplo de implementación para la integral \n",
    "\n",
    "$$ \\begin{align*} \n",
    "I &= \\int_0^{\\pi} e^{-x} \\sin x dx\n",
    "\\end{align*}$$\n",
    "\n",
    "El método de Monte Carlo nos está diciendo que debemos tomar una muestra aleatoria de variables $x_i$. Para una primera aproximacion, tomaremos muestras que vengan de una distribución de probabilidad uniforme. Esto se puede hacer en Python con `np.random`"
   ]
  },
  {
   "cell_type": "code",
   "execution_count": 1,
   "metadata": {},
   "outputs": [],
   "source": [
    "import numpy as np\n",
    "import matplotlib.pyplot as plt\n",
    "\n",
    "N = 1000000\n",
    "a = 0\n",
    "b = np.pi\n",
    "x = np.random.uniform(a,b,N) #N es el número de muestras aleatorias que tomará"
   ]
  },
  {
   "cell_type": "code",
   "execution_count": 2,
   "metadata": {},
   "outputs": [],
   "source": [
    "def func_integrate(x):\n",
    "    return np.exp(-x)*np.sin(x)"
   ]
  },
  {
   "cell_type": "markdown",
   "metadata": {},
   "source": [
    "Calculamos entonces $f(x_i)$ que a su vez es una distribución aleatoria,"
   ]
  },
  {
   "cell_type": "code",
   "execution_count": 3,
   "metadata": {},
   "outputs": [],
   "source": [
    "fi = func_integrate(x)"
   ]
  },
  {
   "cell_type": "markdown",
   "metadata": {},
   "source": [
    "Con lo que podemos calcular nuestra integral utilizando $I \\approx \\frac{b-a}{N} \\sum f(x_i)$"
   ]
  },
  {
   "cell_type": "code",
   "execution_count": 4,
   "metadata": {},
   "outputs": [
    {
     "name": "stdout",
     "output_type": "stream",
     "text": [
      "0.5216669772639647\n"
     ]
    }
   ],
   "source": [
    "I = (b-a)*sum(fi)/N\n",
    "print(I)"
   ]
  },
  {
   "cell_type": "markdown",
   "metadata": {},
   "source": [
    "El valor analítico de la integral es $\\frac{1}{2} (1+e^{-\\pi})$, es decir"
   ]
  },
  {
   "cell_type": "code",
   "execution_count": 5,
   "metadata": {},
   "outputs": [
    {
     "name": "stdout",
     "output_type": "stream",
     "text": [
      "El valor teórico es: 0.521607 y valor utilizando Monte Carlo es 0.521667, con un error porcentual de:  0.011506%\n"
     ]
    }
   ],
   "source": [
    "Iteo = 0.5*(1+np.exp(-np.pi))\n",
    "print(f'El valor teórico es: {Iteo:.6f} y valor utilizando Monte Carlo es {I:.6f}, con un error porcentual de: {np.abs(1-I/Iteo): .6%}')"
   ]
  },
  {
   "cell_type": "markdown",
   "metadata": {},
   "source": [
    "#### **Ejercicio 4.1**"
   ]
  },
  {
   "cell_type": "markdown",
   "metadata": {},
   "source": [
    "Grafique el error porcentual para la integral $\\int_0^{\\pi} e^{-x} \\sin x dx$ utilizando el método de Monte Carlo para su cálculo en función del número de muestras $N$ de este método. En la misma gráfica, muestra la función $\\frac{1}{\\sqrt{N}}$. Esta es la cota superior del error porcentual."
   ]
  },
  {
   "cell_type": "markdown",
   "metadata": {},
   "source": [
    "## Calculando integrales de orden superior\n",
    "\n",
    "Observe el vídeo https://www.youtube.com/watch?v=M34TO71SKGk.\n",
    "\n",
    "- ¿Cómo se relaciona con el método de MonteCarlo?\n",
    "- ¿Cómo recrear el experimento utilizando Python?"
   ]
  },
  {
   "cell_type": "markdown",
   "metadata": {},
   "source": [
    "Observe que Dianna y Derek están calculando el área de un círculo, es decir\n",
    "\n",
    "$$\n",
    "\\begin{align*}\n",
    "A &= \\int_{D}  dA = \\iint_{D} 1 dx dy\n",
    "\\end{align*}\n",
    "$$\n",
    "\n",
    "donde $D = \\{x,y: x^2+y^2 < R^2 \\}$. En este caso estamos integrando una función constante y debemos escoger puntos aleatorios que ocurran estén en la región de integración."
   ]
  },
  {
   "cell_type": "code",
   "execution_count": 6,
   "metadata": {},
   "outputs": [],
   "source": [
    "R = 7\n",
    "N = 10000\n",
    "x = np.random.uniform(-R,R,N)\n",
    "y = np.random.uniform(-R,R,N)\n",
    "\n",
    "suma = 0\n",
    "\n",
    "for i in range(N):\n",
    "    if x[i]**2+y[i]**2<R**2:\n",
    "        suma += 1 #Se suma uno puesto que la función es 1"
   ]
  },
  {
   "cell_type": "code",
   "execution_count": 7,
   "metadata": {},
   "outputs": [
    {
     "data": {
      "text/plain": [
       "154.3696"
      ]
     },
     "execution_count": 7,
     "metadata": {},
     "output_type": "execute_result"
    }
   ],
   "source": [
    "I = (2*R)**2*suma/N\n",
    "I"
   ]
  },
  {
   "cell_type": "code",
   "execution_count": 8,
   "metadata": {},
   "outputs": [
    {
     "data": {
      "text/plain": [
       "153.93804002589985"
      ]
     },
     "execution_count": 8,
     "metadata": {},
     "output_type": "execute_result"
    }
   ],
   "source": [
    "np.pi*R**2"
   ]
  },
  {
   "cell_type": "markdown",
   "metadata": {},
   "source": [
    "Observe que obtenemos el mismo resultado cuando hacemos la transformación de coordenadas $dA=rdrd\\theta$,\n",
    "\n",
    "$$\n",
    "\\begin{align*}\n",
    "A &= \\int_{D}  dA = \\int_{0}^{2\\pi} \\int_{0}^{R} r dr d\\theta\n",
    "\\end{align*}\n",
    "$$"
   ]
  },
  {
   "cell_type": "code",
   "execution_count": 9,
   "metadata": {},
   "outputs": [
    {
     "data": {
      "text/plain": [
       "4.65452332159403"
      ]
     },
     "execution_count": 9,
     "metadata": {},
     "output_type": "execute_result"
    }
   ],
   "source": [
    "r = np.random.uniform(0,R,N)\n",
    "theta = np.random.uniform(0,2*np.pi,N)\n",
    "\n",
    "area_func = lambda r: x\n",
    "f = area_func(r)\n",
    "\n",
    "sum(f)*R*2*np.pi/N"
   ]
  },
  {
   "cell_type": "markdown",
   "metadata": {},
   "source": [
    "#### **Ejercicio 4.2**"
   ]
  },
  {
   "cell_type": "markdown",
   "metadata": {},
   "source": [
    "Determine la masa, centro de masa y momento de inercia que ocupa la región $D$ y tiene la función de densidad dada, donde $D$ está encerrada por el lazo derecho de la rosa de cuatro pétalos $r=\\cos 2\\theta$ con $\\rho(x,y) = x^2+y^2$."
   ]
  },
  {
   "cell_type": "markdown",
   "metadata": {},
   "source": [
    "#### **Ejercicio 4.3**"
   ]
  },
  {
   "cell_type": "markdown",
   "metadata": {},
   "source": [
    "\n",
    "La ecuación del transporte de neutrones requiere calcular la tasa de producción de neutrones por medio de la integral\n",
    "\n",
    "\\begin{align*}\n",
    "    \\int \\int \\int_\\Omega \\sin(x^2+y^2+z^2) e^{x^2+y^2 + z^2} dV\n",
    "\\end{align*}\n",
    "\n",
    "donde $\\Omega$ es la esfera de radio $1$ centrada en el origen. Utilizando el método de Monte Carlo para $N$ puntos aleatorios, aproxime el valor de esta integral."
   ]
  },
  {
   "cell_type": "markdown",
   "metadata": {},
   "source": [
    "## Ejercicio 4.1"
   ]
  },
  {
   "cell_type": "code",
   "execution_count": 10,
   "metadata": {},
   "outputs": [],
   "source": [
    "N=np.linspace(1,1e5, 30, dtype=int)"
   ]
  },
  {
   "cell_type": "code",
   "execution_count": 11,
   "metadata": {},
   "outputs": [],
   "source": [
    "def error(x):\n",
    "    dom = np.random.uniform(a,b,x) \n",
    "    y = func_integrate(dom)\n",
    "    \n",
    "    V_comp = (b-a)*sum(y)/x\n",
    "    \n",
    "    return abs(V_comp-Iteo)/Iteo\n",
    "    "
   ]
  },
  {
   "cell_type": "code",
   "execution_count": 12,
   "metadata": {},
   "outputs": [],
   "source": [
    "error_comp=[]\n",
    "for i in N:\n",
    "    error_comp.append(error(i))"
   ]
  },
  {
   "cell_type": "code",
   "execution_count": 13,
   "metadata": {},
   "outputs": [],
   "source": [
    "def error_teo(x):\n",
    "    return 1/np.sqrt(x)"
   ]
  },
  {
   "cell_type": "code",
   "execution_count": 14,
   "metadata": {},
   "outputs": [],
   "source": [
    "error_teorico=error_teo(N)"
   ]
  },
  {
   "cell_type": "code",
   "execution_count": 15,
   "metadata": {},
   "outputs": [
    {
     "data": {
      "text/plain": [
       "[<matplotlib.lines.Line2D at 0x13966a9c7c0>]"
      ]
     },
     "execution_count": 15,
     "metadata": {},
     "output_type": "execute_result"
    },
    {
     "data": {
      "image/png": "[encoded data removed]",
      "text/plain": [
       "<Figure size 640x480 with 1 Axes>"
      ]
     },
     "metadata": {},
     "output_type": "display_data"
    }
   ],
   "source": [
    "plt.plot(N, error_comp)\n",
    "plt.plot(N, error_teorico, color=\"r\")"
   ]
  },
  {
   "cell_type": "markdown",
   "metadata": {},
   "source": [
    "## 4.2"
   ]
  },
  {
   "cell_type": "code",
   "execution_count": 116,
   "metadata": {},
   "outputs": [],
   "source": [
    "N=100000\n",
    "val_sum=0\n",
    "x=np.random.uniform(0,1, N)\n",
    "y=np.random.uniform(-0.5, 0.5, N)\n",
    "\n",
    "new_X=[]\n",
    "new_Y=[]\n",
    "for i in range(N):\n",
    "  x_=np.cos(2*x[i])*np.cos(x[i])\n",
    "  y_=np.cos(2*y[i])*np.sin(y[i])\n",
    "  if np.sqrt((x_)**2 + (y_)**2) < 1 and x_ >0 and y_>0:\n",
    "    val_sum+=1"
   ]
  },
  {
   "cell_type": "code",
   "execution_count": 117,
   "metadata": {},
   "outputs": [
    {
     "data": {
      "text/plain": [
       "0.21700175826620158"
      ]
     },
     "execution_count": 117,
     "metadata": {},
     "output_type": "execute_result"
    }
   ],
   "source": [
    "I = (np.pi/4)**2*val_sum/N\n",
    "I"
   ]
  },
  {
   "cell_type": "markdown",
   "metadata": {},
   "source": [
    "## 4.3"
   ]
  },
  {
   "cell_type": "code",
   "execution_count": 111,
   "metadata": {},
   "outputs": [],
   "source": [
    "R = 1\n",
    "N = 1000000\n",
    "x = np.random.uniform(-R,R,N)\n",
    "y = np.random.uniform(-R,R,N)\n",
    "z = np.random.uniform(-R,R,N)\n",
    "\n",
    "sum_esfera = 0\n",
    "\n",
    "for i in range(N):\n",
    "    if x[i]**2+y[i]**2+z[i]**2<R**2:\n",
    "        sum_esfera += 1 #Se suma uno puesto que la función es 1"
   ]
  },
  {
   "cell_type": "code",
   "execution_count": 108,
   "metadata": {},
   "outputs": [
    {
     "data": {
      "text/plain": [
       "523228"
      ]
     },
     "execution_count": 108,
     "metadata": {},
     "output_type": "execute_result"
    }
   ],
   "source": [
    "sum_esfera"
   ]
  },
  {
   "cell_type": "code",
   "execution_count": 112,
   "metadata": {},
   "outputs": [
    {
     "data": {
      "text/plain": [
       "4.186024"
      ]
     },
     "execution_count": 112,
     "metadata": {},
     "output_type": "execute_result"
    }
   ],
   "source": [
    "I = 2*(2*R)**2*sum_esfera/N\n",
    "I"
   ]
  },
  {
   "cell_type": "code",
   "execution_count": 94,
   "metadata": {},
   "outputs": [
    {
     "data": {
      "text/plain": [
       "4.1887902047863905"
      ]
     },
     "execution_count": 94,
     "metadata": {},
     "output_type": "execute_result"
    }
   ],
   "source": [
    "4/3*np.pi"
   ]
  }
 ],
 "metadata": {
  "kernelspec": {
   "display_name": "base",
   "language": "python",
   "name": "python3"
  },
  "language_info": {
   "codemirror_mode": {
    "name": "ipython",
    "version": 3
   },
   "file_extension": ".py",
   "mimetype": "text/x-python",
   "name": "python",
   "nbconvert_exporter": "python",
   "pygments_lexer": "ipython3",
   "version": "3.10.11"
  },
  "orig_nbformat": 4
 },
 "nbformat": 4,
 "nbformat_minor": 2
}
