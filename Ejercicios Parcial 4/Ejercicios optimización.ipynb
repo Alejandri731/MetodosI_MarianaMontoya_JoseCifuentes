{
 "cells": [
  {
   "cell_type": "code",
   "execution_count": 26,
   "metadata": {},
   "outputs": [],
   "source": [
    "import numpy as np\n",
    "import matplotlib.pyplot as plt\n",
    "from mpl_toolkits.mplot3d import axes3d\n",
    "import matplotlib.animation as animation\n",
    "from tqdm import tqdm\n",
    "import sympy as sp\n",
    "from scipy.optimize import minimize"
   ]
  },
  {
   "cell_type": "markdown",
   "metadata": {},
   "source": [
    "## Optimización "
   ]
  },
  {
   "cell_type": "markdown",
   "metadata": {},
   "source": [
    "2."
   ]
  },
  {
   "cell_type": "code",
   "execution_count": 25,
   "metadata": {},
   "outputs": [
    {
     "name": "stdout",
     "output_type": "stream",
     "text": [
      "1/5\n"
     ]
    }
   ],
   "source": [
    "x, y, z, l = sp.symbols('x y z l')\n",
    "\n",
    "f = x**2 + y**2 + z**2 - 2*z + 1\n",
    "g = 2*x - 4*y + 5*z - 2\n",
    "\n",
    "ec1 = sp.diff(f, x) - l * sp.diff(g, x)\n",
    "ec2 = sp.diff(f, y) - l * sp.diff(g, y)\n",
    "ec3 = sp.diff(f, z) - l * sp.diff(g, z)\n",
    "\n",
    "sol = sp.solve([ec1, ec2, ec3, g], (x, y, z, l))\n",
    "val_min = f.subs({x: sol[x], y: sol[y], z: sol[z]})\n",
    "\n",
    "print(val_min)"
   ]
  },
  {
   "cell_type": "markdown",
   "metadata": {},
   "source": [
    "3."
   ]
  },
  {
   "cell_type": "code",
   "execution_count": 28,
   "metadata": {},
   "outputs": [],
   "source": [
    "def f_obj(var):\n",
    "    x, y, z = var\n",
    "    return -x * y * z  "
   ]
  },
  {
   "cell_type": "code",
   "execution_count": 29,
   "metadata": {},
   "outputs": [],
   "source": [
    "def f_restr(var):\n",
    "    x, y, z = var\n",
    "    return x * y + 2 * y * z + 2 * x * z - 12"
   ]
  },
  {
   "cell_type": "code",
   "execution_count": 30,
   "metadata": {},
   "outputs": [],
   "source": [
    "v0 = [1, 1, 1]\n",
    "restric = {'type': 'eq', 'fun': f_restr}"
   ]
  },
  {
   "cell_type": "code",
   "execution_count": 31,
   "metadata": {},
   "outputs": [],
   "source": [
    "resp = minimize(f_obj, v0, constraints=restric)"
   ]
  },
  {
   "cell_type": "code",
   "execution_count": 33,
   "metadata": {},
   "outputs": [
    {
     "data": {
      "text/plain": [
       "4.000000340488772"
      ]
     },
     "execution_count": 33,
     "metadata": {},
     "output_type": "execute_result"
    }
   ],
   "source": [
    "-resp.fun"
   ]
  },
  {
   "cell_type": "code",
   "execution_count": 32,
   "metadata": {},
   "outputs": [
    {
     "data": {
      "text/plain": [
       "array([1.99999992, 1.99999998, 1.00000013])"
      ]
     },
     "execution_count": 32,
     "metadata": {},
     "output_type": "execute_result"
    }
   ],
   "source": [
    "resp.x"
   ]
  }
 ],
 "metadata": {
  "kernelspec": {
   "display_name": "Python 3",
   "language": "python",
   "name": "python3"
  },
  "language_info": {
   "codemirror_mode": {
    "name": "ipython",
    "version": 3
   },
   "file_extension": ".py",
   "mimetype": "text/x-python",
   "name": "python",
   "nbconvert_exporter": "python",
   "pygments_lexer": "ipython3",
   "version": "3.10.11"
  }
 },
 "nbformat": 4,
 "nbformat_minor": 2
}
