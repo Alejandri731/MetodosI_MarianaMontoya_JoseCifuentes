{
 "cells": [
  {
   "cell_type": "code",
   "execution_count": 46,
   "metadata": {},
   "outputs": [],
   "source": [
    "import matplotlib.pyplot as plt\n",
    "import numpy as np"
   ]
  },
  {
   "cell_type": "code",
   "execution_count": 6,
   "metadata": {},
   "outputs": [],
   "source": [
    "%reset"
   ]
  },
  {
   "cell_type": "code",
   "execution_count": 23,
   "metadata": {},
   "outputs": [],
   "source": [
    "f = open(\"minerales.txt\")\n",
    "lineas = f.readlines()\n",
    "f.close()"
   ]
  },
  {
   "cell_type": "code",
   "execution_count": 24,
   "metadata": {},
   "outputs": [
    {
     "data": {
      "text/plain": [
       "['nombre\\tdureza\\trompimiento_por_fractura\\tcolor\\tcomposicion\\tlustre\\tspecific_gravity\\tsistema cristalino\\n',\n",
       " 'grafito\\t1.5\\tFALSE\\t#5f6168\\tC\\tMETçLICO\\t2.2\\tHEXAGONAL\\n',\n",
       " 'galena\\t2.5\\tFALSE\\t#1c1a1e\\tPbS\\tMETçLICO\\t7.6\\tCòBICO\\n',\n",
       " 'magnetita\\t6\\tTRUE\\t#141319\\tFe3O4\\tMETçLICO\\t5.2\\tISOMƒTRICO\\n',\n",
       " 'pirita\\t6.5\\tTRUE\\t#b99833\\tFeS2\\tMETçLICO\\t5\\tCòBICO\\n',\n",
       " 'hematita\\t6\\tTRUE\\t#691f2f\\tFe2O3\\tMETçLICO/NO METçLICO\\t5.3\\tTRIGONAL\\n',\n",
       " 'talco\\t1\\tFALSE\\t#e9edf5\\tMg3Si4O10(OH)2\\tNO METçLICO\\t2.7\\tMONOCLêNICO\\n',\n",
       " 'sulfur\\t2\\tTRUE\\t#E8DE35\\tS\\tNO METçLICO\\t2.1\\tORTORRîMBICO\\n',\n",
       " 'selenita\\t2\\tFALSE\\t#e0ddd7\\tCaSO4á2H2O\\tNO METçLICO\\t2.3\\tMONOCLêNICO\\n',\n",
       " 'moscovita\\t2.25\\tFALSE\\t#7a785a\\tKAl3Si3O10(OH)2\\tNO METçLICO\\t2.8\\tMONOCLêNICO\\n',\n",
       " 'halita\\t2.5\\tFALSE\\t#cb9da1\\tNaCl\\tNO METçLICO\\t2.2\\tCòBICO\\n',\n",
       " 'biotita\\t2.75\\tFALSE\\t#282414\\tK(MgFe)3AlSi3O10(OH)2\\tNO METçLICO\\t3\\tMONOCLêNICO\\n',\n",
       " 'calcita\\t3\\tFALSE\\t#e5b569\\tCaCO3\\tNO METçLICO\\t2.7\\tTRIGONAL\\n',\n",
       " 'dolomita\\t3.5\\tFALSE\\t#daaa8c\\tCaMg(CO3)2\\tNO METçLICO\\t2.8\\tTRIGONAL\\n',\n",
       " 'fluorita\\t4\\tFALSE\\t#7a5596\\tCaF2\\tNO METçLICO\\t3.2\\tCòBICO\\n',\n",
       " 'olivino\\t6.5\\tTRUE\\t#9ab973\\t(FeMg)2SiO4\\tNO METçLICO\\t3.9\\tORTORRîMBICO\\n',\n",
       " 'cuarzo\\t7\\tTRUE\\t#f7cac9\\tSiO2\\tNO METçLICO\\t2.65\\tTRIGONAL\\n',\n",
       " 'granate\\t7\\tTRUE\\t#4b0002\\tFe3Al2Si3O12\\tNO METçLICO\\t3.9\\tCòBICO']"
      ]
     },
     "execution_count": 24,
     "metadata": {},
     "output_type": "execute_result"
    }
   ],
   "source": [
    "lineas"
   ]
  },
  {
   "cell_type": "code",
   "execution_count": null,
   "metadata": {},
   "outputs": [],
   "source": [
    "minerales=[]\n",
    "for i in lineas:\n",
    "    linea=i.strip().replace(\"\\t\",\",\").split(\",\")\n",
    "    minerales.append(linea)\n",
    "    \n",
    "minerales\n",
    "    "
   ]
  },
  {
   "cell_type": "code",
   "execution_count": 38,
   "metadata": {},
   "outputs": [
    {
     "data": {
      "text/plain": [
       "['#5f6168',\n",
       " '#1c1a1e',\n",
       " '#141319',\n",
       " '#b99833',\n",
       " '#691f2f',\n",
       " '#e9edf5',\n",
       " '#E8DE35',\n",
       " '#e0ddd7',\n",
       " '#7a785a',\n",
       " '#cb9da1',\n",
       " '#282414',\n",
       " '#e5b569',\n",
       " '#daaa8c',\n",
       " '#7a5596',\n",
       " '#9ab973',\n",
       " '#f7cac9',\n",
       " '#4b0002']"
      ]
     },
     "execution_count": 38,
     "metadata": {},
     "output_type": "execute_result"
    }
   ],
   "source": [
    "x=[]\n",
    "for i in minerales:\n",
    "    x.append(i[3])\n",
    "x.remove(\"color\")\n",
    "x"
   ]
  },
  {
   "cell_type": "code",
   "execution_count": 44,
   "metadata": {},
   "outputs": [
    {
     "data": {
      "text/plain": [
       "['grafito',\n",
       " 'galena',\n",
       " 'magnetita',\n",
       " 'pirita',\n",
       " 'hematita',\n",
       " 'talco',\n",
       " 'sulfur',\n",
       " 'selenita',\n",
       " 'moscovita',\n",
       " 'halita',\n",
       " 'biotita',\n",
       " 'calcita',\n",
       " 'dolomita',\n",
       " 'fluorita',\n",
       " 'olivino',\n",
       " 'cuarzo',\n",
       " 'granate']"
      ]
     },
     "execution_count": 44,
     "metadata": {},
     "output_type": "execute_result"
    }
   ],
   "source": [
    "y=[]\n",
    "for i in minerales:\n",
    "    y.append(i[0])\n",
    "y.remove(\"nombre\")\n",
    "y"
   ]
  },
  {
   "cell_type": "code",
   "execution_count": 43,
   "metadata": {},
   "outputs": [
    {
     "data": {
      "text/plain": [
       "17"
      ]
     },
     "execution_count": 43,
     "metadata": {},
     "output_type": "execute_result"
    }
   ],
   "source": [
    "len(x)\n"
   ]
  },
  {
   "cell_type": "code",
   "execution_count": 62,
   "metadata": {},
   "outputs": [
    {
     "data": {
      "image/png": "[encoded data removed]",
      "text/plain": [
       "<Figure size 640x480 with 1 Axes>"
      ]
     },
     "metadata": {},
     "output_type": "display_data"
    }
   ],
   "source": [
    "distribucion=[1]\n",
    "\n",
    "plt.pie([1], labels=[\"Hola\"], colors=[\"#691f2f\"], radius=1.5)\n",
    "plt.show()\n"
   ]
  }
 ],
 "metadata": {
  "kernelspec": {
   "display_name": "Python 3",
   "language": "python",
   "name": "python3"
  },
  "language_info": {
   "codemirror_mode": {
    "name": "ipython",
    "version": 3
   },
   "file_extension": ".py",
   "mimetype": "text/x-python",
   "name": "python",
   "nbconvert_exporter": "python",
   "pygments_lexer": "ipython3",
   "version": "3.10.11"
  },
  "orig_nbformat": 4
 },
 "nbformat": 4,
 "nbformat_minor": 2
}
