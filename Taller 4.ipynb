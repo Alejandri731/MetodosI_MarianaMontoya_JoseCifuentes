{
  "cells": [
    {
      "cell_type": "code",
      "execution_count": 1,
      "metadata": {
        "id": "o8z5M8VIuCpG"
      },
      "outputs": [],
      "source": [
        "import numpy as np\n",
        "import matplotlib.pyplot as plt\n",
        "import scipy as sp"
      ]
    },
    {
      "cell_type": "markdown",
      "metadata": {},
      "source": [
        "## Punto 1"
      ]
    },
    {
      "cell_type": "markdown",
      "metadata": {},
      "source": [
        "## 1.1"
      ]
    },
    {
      "cell_type": "code",
      "execution_count": 2,
      "metadata": {},
      "outputs": [],
      "source": [
        "espadas=1\n",
        "a=2\n",
        "b=3\n",
        "c=4\n",
        "lista=[]\n",
        "#Las primeras dos\n",
        "for i in range(11):\n",
        "    lista.append(espadas)\n",
        "for i in range(13):\n",
        "    lista.append(a)\n",
        "    lista.append(b)\n",
        "    lista.append(c)\n",
        "\n",
        "#Crear una lista con las cartas"
      ]
    },
    {
      "cell_type": "markdown",
      "metadata": {},
      "source": [
        "a)"
      ]
    },
    {
      "cell_type": "code",
      "execution_count": 3,
      "metadata": {},
      "outputs": [],
      "source": [
        "N= 10000000\n",
        "evento_se_cumplio = 0\n",
        "for i in range(N):\n",
        "    np.random.shuffle(lista)\n",
        "    if lista[0] == 1 and lista[1] == 1 and lista[2] == 1:\n",
        "        evento_se_cumplio+=1"
      ]
    },
    {
      "cell_type": "code",
      "execution_count": 4,
      "metadata": {},
      "outputs": [
        {
          "data": {
            "text/plain": [
              "0.0084321"
            ]
          },
          "execution_count": 4,
          "metadata": {},
          "output_type": "execute_result"
        }
      ],
      "source": [
        "p_3_espadas_consecutivas = evento_se_cumplio/N\n",
        "p_3_espadas_consecutivas"
      ]
    },
    {
      "cell_type": "markdown",
      "metadata": {},
      "source": [
        "b)"
      ]
    },
    {
      "cell_type": "code",
      "execution_count": 5,
      "metadata": {},
      "outputs": [],
      "source": [
        "N= 1000000\n",
        "evento_se_cumplio = 0\n",
        "for i in range(N):\n",
        "    np.random.shuffle(lista)\n",
        "    if lista[0] == 1 and lista[1] == 1:\n",
        "        evento_se_cumplio+=1"
      ]
    },
    {
      "cell_type": "code",
      "execution_count": 6,
      "metadata": {},
      "outputs": [
        {
          "data": {
            "text/plain": [
              "0.044747"
            ]
          },
          "execution_count": 6,
          "metadata": {},
          "output_type": "execute_result"
        }
      ],
      "source": [
        "evento_se_cumplio/N"
      ]
    },
    {
      "cell_type": "markdown",
      "metadata": {},
      "source": [
        "c)"
      ]
    },
    {
      "cell_type": "code",
      "execution_count": 7,
      "metadata": {},
      "outputs": [],
      "source": [
        "N= 1000000\n",
        "evento_se_cumplio = 0\n",
        "for i in range(N):\n",
        "    np.random.shuffle(lista)\n",
        "    if lista[0] == 1:\n",
        "        evento_se_cumplio+=1"
      ]
    },
    {
      "cell_type": "code",
      "execution_count": 8,
      "metadata": {},
      "outputs": [
        {
          "data": {
            "text/plain": [
              "0.219197"
            ]
          },
          "execution_count": 8,
          "metadata": {},
          "output_type": "execute_result"
        }
      ],
      "source": [
        "evento_se_cumplio/N"
      ]
    },
    {
      "cell_type": "markdown",
      "metadata": {},
      "source": [
        "## 1.2 Problema de la gripe"
      ]
    },
    {
      "cell_type": "code",
      "execution_count": 9,
      "metadata": {},
      "outputs": [],
      "source": [
        "inoculados = []\n",
        "no_inoculados = []\n",
        "\n",
        "N = 10000\n",
        "Prob_Expuesto = 0.6\n",
        "Prob_contagio_para_inoculados = 0.2\n",
        "Prob_contagio_para_excepticos = 0.9\n",
        "\n",
        "for i in range(N):\n",
        "    if i < N*Prob_Expuesto:\n",
        "        inoculados.append([\"E\",\"S\"])\n",
        "        no_inoculados.append([\"E\",\"S\"])\n",
        "    else:\n",
        "        inoculados.append([\"NE\",\"S\"])\n",
        "        no_inoculados.append([\"NE\",\"S\"])\n",
        "\n",
        "for i in range(int(N*Prob_Expuesto*Prob_contagio_para_inoculados)):\n",
        "    inoculados[i]=[\"E\",\"C\"]\n",
        "\n",
        "for i in range(int(N*Prob_Expuesto*Prob_contagio_para_excepticos)):\n",
        "    no_inoculados[i]=[\"E\",\"C\"]"
      ]
    },
    {
      "cell_type": "code",
      "execution_count": 10,
      "metadata": {},
      "outputs": [
        {
          "name": "stdout",
          "output_type": "stream",
          "text": [
            "0.595\n"
          ]
        }
      ],
      "source": [
        "N= 10000\n",
        "evento_se_cumplio = 0\n",
        "for i in range(N):\n",
        "    np.random.shuffle(inoculados)\n",
        "    np.random.shuffle(no_inoculados)\n",
        "    if inoculados[0] == [\"E\", \"C\"] or no_inoculados[0] == [\"E\", \"C\"]:\n",
        "        evento_se_cumplio+=1\n",
        "\n",
        "print(evento_se_cumplio/N)"
      ]
    },
    {
      "cell_type": "markdown",
      "metadata": {},
      "source": [
        "## Punto 2"
      ]
    },
    {
      "cell_type": "markdown",
      "metadata": {},
      "source": [
        "## 2.1"
      ]
    },
    {
      "cell_type": "code",
      "execution_count": 25,
      "metadata": {},
      "outputs": [
        {
          "name": "stdout",
          "output_type": "stream",
          "text": [
            "Caso 1: (5,1)\t Caso 2: (25,5)\n",
            "p=0.02: 0.998 \t 1.0\n",
            "p=0.03: 0.992 \t 1.0\n",
            "p=0.04: 0.985 \t 1.0\n"
          ]
        },
        {
          "data": {
            "image/png": "[encoded data removed]",
            "text/plain": [
              "<Figure size 640x480 with 1 Axes>"
            ]
          },
          "metadata": {},
          "output_type": "display_data"
        }
      ],
      "source": [
        "def curva_operacion(n, c, N):\n",
        "    eventos = []\n",
        "    prob_aceptacion = []\n",
        "    for i, p_i in enumerate(p):\n",
        "        eventos.append(np.random.binomial(n,p_i,N))\n",
        "        eventos[i].sort()\n",
        "        freq_absoluta_aceptacion = sum(num <= c for num in eventos[i])\n",
        "        prob_aceptacion.append(freq_absoluta_aceptacion/N)\n",
        "    return prob_aceptacion\n",
        "    \n",
        "p =np.arange(1,101)/100\n",
        "\n",
        "# Definimos las variables requeridas para toda Curva de Operación\n",
        "n=5\n",
        "c=1\n",
        "N=1000   # Nro de muestras a revisar\n",
        "\n",
        "caso_1 = curva_operacion(n,c,N)\n",
        "\n",
        "n=25\n",
        "c=5\n",
        "\n",
        "caso_2 = curva_operacion(n,c,N)\n",
        "\n",
        "plt.scatter(p,caso_1)\n",
        "plt.scatter(p,caso_2)\n",
        "\n",
        "print(\"Caso 1: (5,1)\\t Caso 2: (25,5)\")\n",
        "print(\"p=0.02:\", caso_1[1], \"\\t\", caso_2[1])\n",
        "print(\"p=0.03:\", caso_1[2], \"\\t\", caso_2[2])\n",
        "print(\"p=0.04:\", caso_1[3], \"\\t\", caso_2[3])"
      ]
    },
    {
      "cell_type": "markdown",
      "metadata": {},
      "source": [
        "### 2.1.a)\n",
        "De ser un vendedor bajo las condiciones específicadas, puesto que el plan de muestreo (25,5) arroja una curva practicamente plana en la region $0 \\le p \\le 0.1$, lo cual no permite discenir cambios en la probabilidad de aceptación como función de p, concluimos que es preferible el plan de muestreo (5,1) si lo que se desea es tener mayor discernimiento de la calidad ofrecida. \n",
        "\n",
        "### 2.1.b)\n",
        "De ser un comprador que se quiere asegurar de rechazar lotes con proporción de defectuosos $p \\gt 0.3$, naturalmente escogería el plan que minimiza la probabilidad de aceptación de tales lotes. En este caso tal plan es el (25,5)"
      ]
    },
    {
      "cell_type": "markdown",
      "metadata": {},
      "source": [
        "## 2.2"
      ]
    },
    {
      "cell_type": "markdown",
      "metadata": {},
      "source": [
        "a)"
      ]
    },
    {
      "cell_type": "code",
      "execution_count": 26,
      "metadata": {},
      "outputs": [
        {
          "name": "stdout",
          "output_type": "stream",
          "text": [
            "Rta: 5\n"
          ]
        }
      ],
      "source": [
        "N = 1000000\n",
        "media = 1\n",
        "eventos = np.random.poisson(media,N)\n",
        "eventos.sort()\n",
        "n = eventos[int(np.ceil(N*0.99))]\n",
        "print(\"Rta:\", n+1)"
      ]
    },
    {
      "cell_type": "markdown",
      "metadata": {},
      "source": [
        "b)"
      ]
    },
    {
      "cell_type": "code",
      "execution_count": null,
      "metadata": {},
      "outputs": [],
      "source": []
    },
    {
      "cell_type": "markdown",
      "metadata": {},
      "source": [
        "## Punto 3"
      ]
    },
    {
      "cell_type": "markdown",
      "metadata": {},
      "source": [
        "## 3.1"
      ]
    },
    {
      "cell_type": "code",
      "execution_count": 11,
      "metadata": {},
      "outputs": [],
      "source": [
        "def f(x):\n",
        "    return x**(2)/3"
      ]
    },
    {
      "cell_type": "markdown",
      "metadata": {},
      "source": [
        "a)"
      ]
    },
    {
      "cell_type": "code",
      "execution_count": 12,
      "metadata": {},
      "outputs": [
        {
          "data": {
            "text/plain": [
              "0.11111111111111112"
            ]
          },
          "execution_count": 12,
          "metadata": {},
          "output_type": "execute_result"
        }
      ],
      "source": [
        "sp.integrate.quad(f, 0,1)[0]"
      ]
    },
    {
      "cell_type": "markdown",
      "metadata": {},
      "source": [
        "b)"
      ]
    },
    {
      "cell_type": "code",
      "execution_count": 13,
      "metadata": {},
      "outputs": [
        {
          "data": {
            "text/plain": [
              "0.7777777777777778"
            ]
          },
          "execution_count": 13,
          "metadata": {},
          "output_type": "execute_result"
        }
      ],
      "source": [
        "sp.integrate.quad(f, 1,2)[0]"
      ]
    },
    {
      "cell_type": "markdown",
      "metadata": {},
      "source": [
        "## 3.2"
      ]
    },
    {
      "cell_type": "code",
      "execution_count": 14,
      "metadata": {
        "id": "OcHui9QY2iVg"
      },
      "outputs": [],
      "source": [
        "N=100000\n",
        "Sample = np.random.normal(78, 6, N)"
      ]
    },
    {
      "cell_type": "markdown",
      "metadata": {
        "id": "X1wkU40ODvaq"
      },
      "source": [
        "## a)"
      ]
    },
    {
      "cell_type": "code",
      "execution_count": 15,
      "metadata": {
        "colab": {
          "base_uri": "https://localhost:8080/"
        },
        "id": "z_tDe7U-21Fi",
        "outputId": "4696ba1b-3596-45e5-9334-da4013ac7e0d"
      },
      "outputs": [
        {
          "data": {
            "text/plain": [
              "0.84243"
            ]
          },
          "execution_count": 15,
          "metadata": {},
          "output_type": "execute_result"
        }
      ],
      "source": [
        "mayor = 0\n",
        "\n",
        "for i in Sample:\n",
        "  if i>72:\n",
        "    mayor+=1\n",
        "\n",
        "A=mayor/N\n",
        "A"
      ]
    },
    {
      "cell_type": "markdown",
      "metadata": {
        "id": "kX355Pf5D0xy"
      },
      "source": [
        "## b)"
      ]
    },
    {
      "cell_type": "code",
      "execution_count": 16,
      "metadata": {
        "colab": {
          "base_uri": "https://localhost:8080/"
        },
        "id": "z2Ny1RpBC_h2",
        "outputId": "da311f3f-6b9c-4742-c6f9-40436f72bf74"
      },
      "outputs": [
        {
          "data": {
            "text/plain": [
              "85.68889530808981"
            ]
          },
          "execution_count": 16,
          "metadata": {},
          "output_type": "execute_result"
        }
      ],
      "source": [
        "orden1= np.sort(Sample)\n",
        "orden1[int(0.9*len(Sample))]"
      ]
    },
    {
      "cell_type": "markdown",
      "metadata": {
        "id": "0fUwbE87D-nv"
      },
      "source": [
        "## c)"
      ]
    },
    {
      "cell_type": "code",
      "execution_count": 17,
      "metadata": {
        "colab": {
          "base_uri": "https://localhost:8080/"
        },
        "id": "P9tZby16EtlF",
        "outputId": "43de91ce-1e0a-4987-d9cf-ec59d799e583"
      },
      "outputs": [
        {
          "data": {
            "text/plain": [
              "81.5528880565193"
            ]
          },
          "execution_count": 17,
          "metadata": {},
          "output_type": "execute_result"
        }
      ],
      "source": [
        "orden2= np.sort(Sample)\n",
        "orden2[int((0.719*len(Sample)))]"
      ]
    },
    {
      "cell_type": "markdown",
      "metadata": {
        "id": "AeCxq9DLLL2d"
      },
      "source": [
        "## d)"
      ]
    },
    {
      "cell_type": "code",
      "execution_count": 18,
      "metadata": {
        "colab": {
          "base_uri": "https://localhost:8080/"
        },
        "id": "tZHHeIupFp_4",
        "outputId": "395a8ec0-1461-461c-e297-1322358bbe08"
      },
      "outputs": [
        {
          "data": {
            "text/plain": [
              "73.9801475514589"
            ]
          },
          "execution_count": 18,
          "metadata": {},
          "output_type": "execute_result"
        }
      ],
      "source": [
        "valor=orden2[int((0.25*len(Sample)))]\n",
        "pos = int((0.25*len(Sample)))\n",
        "valor"
      ]
    },
    {
      "cell_type": "code",
      "execution_count": 19,
      "metadata": {
        "colab": {
          "base_uri": "https://localhost:8080/"
        },
        "id": "xPivFE-lFx0n",
        "outputId": "4e854a8a-ef13-490b-ad8d-a0c0c0e28c77"
      },
      "outputs": [
        {
          "data": {
            "text/plain": [
              "0.43783"
            ]
          },
          "execution_count": 19,
          "metadata": {},
          "output_type": "execute_result"
        }
      ],
      "source": [
        "contar=0\n",
        "new=[]\n",
        "for i in orden2:\n",
        "  if i>valor+5:\n",
        "    contar+=1\n",
        "contar/N"
      ]
    },
    {
      "cell_type": "markdown",
      "metadata": {
        "id": "JjRTge6iLRLf"
      },
      "source": [
        "## e)"
      ]
    },
    {
      "cell_type": "code",
      "execution_count": 20,
      "metadata": {
        "colab": {
          "base_uri": "https://localhost:8080/"
        },
        "id": "3qp1Ph2dLTHW",
        "outputId": "0a5530e9-3d92-40c4-9194-8425d925cc4f"
      },
      "outputs": [
        {
          "data": {
            "text/plain": [
              "0.15987"
            ]
          },
          "execution_count": 20,
          "metadata": {},
          "output_type": "execute_result"
        }
      ],
      "source": [
        "mayor2 = 0\n",
        "\n",
        "for i in Sample:\n",
        "  if i>84:\n",
        "    mayor2+=1\n",
        "\n",
        "B=mayor2/N\n",
        "B"
      ]
    },
    {
      "cell_type": "code",
      "execution_count": 21,
      "metadata": {
        "colab": {
          "base_uri": "https://localhost:8080/"
        },
        "id": "xtXRulOxNEYb",
        "outputId": "25e06629-5815-40af-cfb6-d2a4a245f098"
      },
      "outputs": [
        {
          "data": {
            "text/plain": [
              "0.18755430707152462"
            ]
          },
          "execution_count": 21,
          "metadata": {},
          "output_type": "execute_result"
        }
      ],
      "source": [
        "(1-A)/(1-B)"
      ]
    },
    {
      "cell_type": "markdown",
      "metadata": {},
      "source": [
        "## Punto 4"
      ]
    },
    {
      "cell_type": "markdown",
      "metadata": {},
      "source": [
        "## 4.1"
      ]
    },
    {
      "cell_type": "code",
      "execution_count": 22,
      "metadata": {
        "id": "wECTPXII2FDG"
      },
      "outputs": [],
      "source": [
        "T=np.array([ [0.4, 0.25, 0.3, 0.1],\n",
        "            [0.2, 0.25, 0.3, 0.1],\n",
        "            [0.2, 0.25, 0.1, 0.1],\n",
        "            [0.2, 0.25, 0.3, 0.7]])\n",
        "\n",
        "pi = np.array([0, 0, 0, 1])"
      ]
    },
    {
      "cell_type": "code",
      "execution_count": 23,
      "metadata": {
        "colab": {
          "base_uri": "https://localhost:8080/"
        },
        "id": "4HNDxpd2Xk6h",
        "outputId": "c23b3ac1-d924-46db-eec9-9abf94c712e1"
      },
      "outputs": [
        {
          "data": {
            "text/plain": [
              "7.500000000000001e-06"
            ]
          },
          "execution_count": 23,
          "metadata": {},
          "output_type": "execute_result"
        }
      ],
      "source": [
        "p_fin = 0.25*0.1*0.3*0.25*0.1*0.25*0.4*0.4\n",
        "p_fin"
      ]
    },
    {
      "cell_type": "markdown",
      "metadata": {
        "id": "ldWBLREhcVTT"
      },
      "source": [
        "## 4.2"
      ]
    },
    {
      "cell_type": "code",
      "execution_count": 24,
      "metadata": {
        "colab": {
          "base_uri": "https://localhost:8080/"
        },
        "id": "WBM_8QAicWVY",
        "outputId": "d9404874-9b72-411f-ab5b-52ddcdada44a"
      },
      "outputs": [
        {
          "data": {
            "text/plain": [
              "1.3716864000000004e-06"
            ]
          },
          "execution_count": 24,
          "metadata": {},
          "output_type": "execute_result"
        }
      ],
      "source": [
        "0.7*0.9*0.9*0.7*0.9*0.8*0.8*0.8*p_fin"
      ]
    }
  ],
  "metadata": {
    "colab": {
      "provenance": []
    },
    "kernelspec": {
      "display_name": "Python 3",
      "name": "python3"
    },
    "language_info": {
      "codemirror_mode": {
        "name": "ipython",
        "version": 3
      },
      "file_extension": ".py",
      "mimetype": "text/x-python",
      "name": "python",
      "nbconvert_exporter": "python",
      "pygments_lexer": "ipython3",
      "version": "3.10.11"
    }
  },
  "nbformat": 4,
  "nbformat_minor": 0
}
