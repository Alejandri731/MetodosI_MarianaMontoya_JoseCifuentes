{
 "cells": [
  {
   "cell_type": "code",
   "execution_count": 23,
   "metadata": {},
   "outputs": [
    {
     "data": {
      "text/plain": [
       "<function matplotlib.pyplot.show(close=None, block=None)>"
      ]
     },
     "execution_count": 23,
     "metadata": {},
     "output_type": "execute_result"
    },
    {
     "data": {
      "image/png": "[encoded data removed]",
      "text/plain": [
       "<Figure size 640x480 with 1 Axes>"
      ]
     },
     "metadata": {},
     "output_type": "display_data"
    }
   ],
   "source": [
    "#parcial 1\n",
    "import math as e\n",
    "import matplotlib.pyplot as plt\n",
    "import numpy as np\n",
    "\n",
    "dominio = np.linspace(-3,3,50)\n",
    "def algoritmo_muller(x):\n",
    "    return m.e**(-x) - x\n",
    "\n",
    "y = 0\n",
    "\n",
    "plt.plot(algoritmo_muller(dominio))\n",
    "plt.show\n"
   ]
  },
  {
   "cell_type": "code",
   "execution_count": 24,
   "metadata": {},
   "outputs": [],
   "source": [
    "X = [-1,10]\n",
    "Y = [0.0002,5]"
   ]
  },
  {
   "cell_type": "code",
   "execution_count": 25,
   "metadata": {},
   "outputs": [
    {
     "name": "stdout",
     "output_type": "stream",
     "text": [
      "<module 'math' (built-in)>\n"
     ]
    }
   ],
   "source": [
    "#Teorema de Boltazno\n",
    "\n",
    "def algoritmo_muller(x):\n",
    "    return e**(-x) - x\n",
    "\n",
    "def Boltzano(algoritmo_muller):\n",
    "\n",
    "    if algoritmo_muller(X[0])==algoritmo_muller(X[1]):\n",
    "        print('No es posible')\n",
    "\n",
    "    m = (algoritmo_muller(X[0])+algoritmo_muller(X[1]))/2\n",
    "    \n",
    "    Y[0] = Y[0]\n",
    "    Y[0] = Y[1]\n",
    "\n",
    "    error = 10e-2\n",
    "    while abs() > error:\n",
    "        if np.sign(algoritmo_muller(X[0])) == np.sign(X[1]):\n",
    "            raise Exception('No se puede :( ')\n",
    "        \n",
    "        elif algoritmo_muller(X[0]) > (algoritmo_muller(X[1])):\n",
    "            m = X[0]\n",
    "        elif (algoritmo_muller(X[0])) < (algoritmo_muller(X[1])):\n",
    "            m = X[1]\n",
    "\n",
    "        m = (X[0]+X[1])/2\n",
    "print(m)\n",
    "\n",
    "#criterio de parada\n",
    "\n",
    "\n"
   ]
  },
  {
   "cell_type": "code",
   "execution_count": null,
   "metadata": {},
   "outputs": [],
   "source": [
    "epsilon = abs(X[3])< 1 * 10**-10\n",
    "\n",
    "if epsilon "
   ]
  }
 ],
 "metadata": {
  "kernelspec": {
   "display_name": "Python 3",
   "language": "python",
   "name": "python3"
  },
  "language_info": {
   "codemirror_mode": {
    "name": "ipython",
    "version": 3
   },
   "file_extension": ".py",
   "mimetype": "text/x-python",
   "name": "python",
   "nbconvert_exporter": "python",
   "pygments_lexer": "ipython3",
   "version": "3.10.11"
  },
  "orig_nbformat": 4
 },
 "nbformat": 4,
 "nbformat_minor": 2
}
