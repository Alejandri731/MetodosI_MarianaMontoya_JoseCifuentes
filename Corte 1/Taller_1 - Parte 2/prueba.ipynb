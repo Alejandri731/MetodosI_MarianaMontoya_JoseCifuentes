{
 "cells": [
  {
   "cell_type": "code",
   "execution_count": 2,
   "metadata": {},
   "outputs": [],
   "source": [
    "import matplotlib.pyplot as plt\n",
    "import numpy as np\n",
    "import sympy as sym"
   ]
  },
  {
   "cell_type": "code",
   "execution_count": 3,
   "metadata": {},
   "outputs": [],
   "source": [
    "f = open(\"minerales.txt\")\n",
    "lineas = f.readlines()\n",
    "f.close()"
   ]
  },
  {
   "cell_type": "code",
   "execution_count": 4,
   "metadata": {},
   "outputs": [
    {
     "data": {
      "text/plain": [
       "['nombre\\tdureza\\trompimiento_por_fractura\\tcolor\\tcomposicion\\tlustre\\tspecific_gravity\\tsistema cristalino\\n',\n",
       " 'grafito\\t1.5\\tFALSE\\t#5f6168\\tC\\tMETçLICO\\t2.2\\tHEXAGONAL\\n',\n",
       " 'galena\\t2.5\\tFALSE\\t#1c1a1e\\tPbS\\tMETçLICO\\t7.6\\tCòBICO\\n',\n",
       " 'magnetita\\t6\\tTRUE\\t#141319\\tFe3O4\\tMETçLICO\\t5.2\\tISOMƒTRICO\\n',\n",
       " 'pirita\\t6.5\\tTRUE\\t#b99833\\tFeS2\\tMETçLICO\\t5\\tCòBICO\\n',\n",
       " 'hematita\\t6\\tTRUE\\t#691f2f\\tFe2O3\\tMETçLICO/NO METçLICO\\t5.3\\tTRIGONAL\\n',\n",
       " 'talco\\t1\\tFALSE\\t#e9edf5\\tMg3Si4O10(OH)2\\tNO METçLICO\\t2.7\\tMONOCLêNICO\\n',\n",
       " 'sulfur\\t2\\tTRUE\\t#E8DE35\\tS\\tNO METçLICO\\t2.1\\tORTORRîMBICO\\n',\n",
       " 'selenita\\t2\\tFALSE\\t#e0ddd7\\tCaSO4á2H2O\\tNO METçLICO\\t2.3\\tMONOCLêNICO\\n',\n",
       " 'moscovita\\t2.25\\tFALSE\\t#7a785a\\tKAl3Si3O10(OH)2\\tNO METçLICO\\t2.8\\tMONOCLêNICO\\n',\n",
       " 'halita\\t2.5\\tFALSE\\t#cb9da1\\tNaCl\\tNO METçLICO\\t2.2\\tCòBICO\\n',\n",
       " 'biotita\\t2.75\\tFALSE\\t#282414\\tK(MgFe)3AlSi3O10(OH)2\\tNO METçLICO\\t3\\tMONOCLêNICO\\n',\n",
       " 'calcita\\t3\\tFALSE\\t#e5b569\\tCaCO3\\tNO METçLICO\\t2.7\\tTRIGONAL\\n',\n",
       " 'dolomita\\t3.5\\tFALSE\\t#daaa8c\\tCaMg(CO3)2\\tNO METçLICO\\t2.8\\tTRIGONAL\\n',\n",
       " 'fluorita\\t4\\tFALSE\\t#7a5596\\tCaF2\\tNO METçLICO\\t3.2\\tCòBICO\\n',\n",
       " 'olivino\\t6.5\\tTRUE\\t#9ab973\\t(FeMg)2SiO4\\tNO METçLICO\\t3.9\\tORTORRîMBICO\\n',\n",
       " 'cuarzo\\t7\\tTRUE\\t#f7cac9\\tSiO2\\tNO METçLICO\\t2.65\\tTRIGONAL\\n',\n",
       " 'granate\\t7\\tTRUE\\t#4b0002\\tFe3Al2Si3O12\\tNO METçLICO\\t3.9\\tCòBICO']"
      ]
     },
     "execution_count": 4,
     "metadata": {},
     "output_type": "execute_result"
    }
   ],
   "source": [
    "lineas"
   ]
  },
  {
   "cell_type": "code",
   "execution_count": 5,
   "metadata": {},
   "outputs": [
    {
     "data": {
      "text/plain": [
       "[['nombre',\n",
       "  'dureza',\n",
       "  'rompimiento_por_fractura',\n",
       "  'color',\n",
       "  'composicion',\n",
       "  'lustre',\n",
       "  'specific_gravity',\n",
       "  'sistema cristalino'],\n",
       " ['grafito', '1.5', 'FALSE', '#5f6168', 'C', 'METçLICO', '2.2', 'HEXAGONAL'],\n",
       " ['galena', '2.5', 'FALSE', '#1c1a1e', 'PbS', 'METçLICO', '7.6', 'CòBICO'],\n",
       " ['magnetita',\n",
       "  '6',\n",
       "  'TRUE',\n",
       "  '#141319',\n",
       "  'Fe3O4',\n",
       "  'METçLICO',\n",
       "  '5.2',\n",
       "  'ISOMƒTRICO'],\n",
       " ['pirita', '6.5', 'TRUE', '#b99833', 'FeS2', 'METçLICO', '5', 'CòBICO'],\n",
       " ['hematita',\n",
       "  '6',\n",
       "  'TRUE',\n",
       "  '#691f2f',\n",
       "  'Fe2O3',\n",
       "  'METçLICO/NO METçLICO',\n",
       "  '5.3',\n",
       "  'TRIGONAL'],\n",
       " ['talco',\n",
       "  '1',\n",
       "  'FALSE',\n",
       "  '#e9edf5',\n",
       "  'Mg3Si4O10(OH)2',\n",
       "  'NO METçLICO',\n",
       "  '2.7',\n",
       "  'MONOCLêNICO'],\n",
       " ['sulfur', '2', 'TRUE', '#E8DE35', 'S', 'NO METçLICO', '2.1', 'ORTORRîMBICO'],\n",
       " ['selenita',\n",
       "  '2',\n",
       "  'FALSE',\n",
       "  '#e0ddd7',\n",
       "  'CaSO4á2H2O',\n",
       "  'NO METçLICO',\n",
       "  '2.3',\n",
       "  'MONOCLêNICO'],\n",
       " ['moscovita',\n",
       "  '2.25',\n",
       "  'FALSE',\n",
       "  '#7a785a',\n",
       "  'KAl3Si3O10(OH)2',\n",
       "  'NO METçLICO',\n",
       "  '2.8',\n",
       "  'MONOCLêNICO'],\n",
       " ['halita', '2.5', 'FALSE', '#cb9da1', 'NaCl', 'NO METçLICO', '2.2', 'CòBICO'],\n",
       " ['biotita',\n",
       "  '2.75',\n",
       "  'FALSE',\n",
       "  '#282414',\n",
       "  'K(MgFe)3AlSi3O10(OH)2',\n",
       "  'NO METçLICO',\n",
       "  '3',\n",
       "  'MONOCLêNICO'],\n",
       " ['calcita',\n",
       "  '3',\n",
       "  'FALSE',\n",
       "  '#e5b569',\n",
       "  'CaCO3',\n",
       "  'NO METçLICO',\n",
       "  '2.7',\n",
       "  'TRIGONAL'],\n",
       " ['dolomita',\n",
       "  '3.5',\n",
       "  'FALSE',\n",
       "  '#daaa8c',\n",
       "  'CaMg(CO3)2',\n",
       "  'NO METçLICO',\n",
       "  '2.8',\n",
       "  'TRIGONAL'],\n",
       " ['fluorita', '4', 'FALSE', '#7a5596', 'CaF2', 'NO METçLICO', '3.2', 'CòBICO'],\n",
       " ['olivino',\n",
       "  '6.5',\n",
       "  'TRUE',\n",
       "  '#9ab973',\n",
       "  '(FeMg)2SiO4',\n",
       "  'NO METçLICO',\n",
       "  '3.9',\n",
       "  'ORTORRîMBICO'],\n",
       " ['cuarzo', '7', 'TRUE', '#f7cac9', 'SiO2', 'NO METçLICO', '2.65', 'TRIGONAL'],\n",
       " ['granate',\n",
       "  '7',\n",
       "  'TRUE',\n",
       "  '#4b0002',\n",
       "  'Fe3Al2Si3O12',\n",
       "  'NO METçLICO',\n",
       "  '3.9',\n",
       "  'CòBICO']]"
      ]
     },
     "execution_count": 5,
     "metadata": {},
     "output_type": "execute_result"
    }
   ],
   "source": [
    "minerales=[]\n",
    "for i in lineas:\n",
    "    linea=i.strip().replace(\"\\t\",\",\").split(\",\")\n",
    "    minerales.append(linea)\n",
    "    \n",
    "minerales\n",
    "    "
   ]
  },
  {
   "cell_type": "code",
   "execution_count": 6,
   "metadata": {},
   "outputs": [
    {
     "data": {
      "text/plain": [
       "['grafito',\n",
       " 'galena',\n",
       " 'magnetita',\n",
       " 'pirita',\n",
       " 'hematita',\n",
       " 'talco',\n",
       " 'sulfur',\n",
       " 'selenita',\n",
       " 'moscovita',\n",
       " 'halita',\n",
       " 'biotita',\n",
       " 'calcita',\n",
       " 'dolomita',\n",
       " 'fluorita',\n",
       " 'olivino',\n",
       " 'cuarzo',\n",
       " 'granate']"
      ]
     },
     "execution_count": 6,
     "metadata": {},
     "output_type": "execute_result"
    }
   ],
   "source": [
    "y=[]\n",
    "for i in minerales:\n",
    "    y.append(i[0])\n",
    "y.remove(\"nombre\")\n",
    "y"
   ]
  },
  {
   "cell_type": "code",
   "execution_count": 7,
   "metadata": {},
   "outputs": [],
   "source": [
    "import tabulate\n",
    "from mineral import Mineral\n",
    "\n",
    "minerales=[]\n",
    "obj_mineral=[]\n",
    "\n",
    "#Carga de datos\n",
    "file = open(\"minerales.txt\")\n",
    "lineas = file.readlines()\n",
    "file.close()\n",
    "\n",
    "\n",
    "for i in lineas:\n",
    "    linea=i.strip().replace(\"\\t\",\",\").split(\",\")\n",
    "    minerales.append(linea)   \n",
    "minerales.remove(minerales[0])\n",
    "\n",
    "\n",
    "#Carga de los objetos\n",
    "for mineral in minerales: \n",
    "    nombre = mineral[0]\n",
    "    dureza = mineral[1]\n",
    "    rompimiento_por_fractura = mineral[2]\n",
    "    color = mineral[3]\n",
    "    composicion = mineral[4]\n",
    "    lustre = mineral[5]\n",
    "    specific_gravity = mineral[6]\n",
    "    sistema_cristalino = mineral[7]\n",
    "    \n",
    "    mineral_i=Mineral(nombre=nombre, dureza=dureza, rompimiento_por_fractura=rompimiento_por_fractura,\n",
    "                      color=color, composicion=composicion, lustre=lustre, \n",
    "                      specific_gravity=specific_gravity, sistema_cristalino=sistema_cristalino)\n",
    "    \n",
    "    \n",
    "    obj_mineral.append(mineral_i)\n",
    "    \n",
    "\n",
    "#Funciones\n",
    "def num_silicatos():\n",
    "    contador=0\n",
    "    for i in obj_mineral:\n",
    "        if i.silicato():\n",
    "            contador+=1\n",
    "    return contador\n",
    "\n",
    "def densidad_prom():\n",
    "    suma=0\n",
    "    for i in obj_mineral:\n",
    "        suma+=i.densidad()\n",
    "    \n",
    "    prom=suma/len(obj_mineral)\n",
    "    return round(prom,3)\n",
    "\n",
    "\n",
    "\n"
   ]
  },
  {
   "cell_type": "code",
   "execution_count": 35,
   "metadata": {},
   "outputs": [
    {
     "data": {
      "image/png": "[encoded data removed]",
      "text/plain": [
       "<Figure size 640x480 with 1 Axes>"
      ]
     },
     "metadata": {},
     "output_type": "display_data"
    },
    {
     "name": "stdout",
     "output_type": "stream",
     "text": [
      "El coheficiente de expansión es: 9.57 \t El error es de 0.6402328807801723\n"
     ]
    },
    {
     "data": {
      "image/png": "[encoded data removed]",
      "text/plain": [
       "<Figure size 640x480 with 1 Axes>"
      ]
     },
     "metadata": {},
     "output_type": "display_data"
    }
   ],
   "source": [
    "from mineral import Mineral\n",
    "file = open(\"olivine_angel_2017.csv\")\n",
    "datos = file.readlines()\n",
    "file.close()\n",
    "    \n",
    "volumen=[]\n",
    "temperatura=[]\n",
    "\n",
    "for i in datos:\n",
    "    linea=i.strip().split(\",\")\n",
    "    if  linea[1]==\"volume_cc\":\n",
    "        pass\n",
    "    else:\n",
    "        volumen.append(float(linea[0]))\n",
    "        temperatura.append(float(linea[1]))\n",
    "        \n",
    "#Calculo de coheficiente de expansión para un valor medio de la temperatura\n",
    "coef=[]\n",
    "tmedia=[]\n",
    "for i in range(len(volumen)-1):\n",
    "    valor_coef=(1/volumen[0])*(volumen[i+1]-volumen[i])/(temperatura[i+1]-temperatura[i])\n",
    "    new_temp=(temperatura[i+1]+temperatura[i])/2\n",
    "    \n",
    "    tmedia.append(new_temp)\n",
    "    coef.append(valor_coef)\n",
    "    \n",
    "#Presentación por terminal\n",
    "plt.scatter(temperatura,volumen)\n",
    "plt.xlabel('Temperatura',fontsize=15)\n",
    "plt.ylabel('Volumen',fontsize=15)\n",
    "plt.show()\n",
    "\n",
    "#Calculo error\n",
    "error=np.std(coef)/np.sqrt(len(coef))\n",
    "\n",
    "print(\"El coheficiente de expansión es:\",round(np.mean(coef),2), \"\\t El error es de\",error)    \n",
    "plt.scatter(tmedia,coef, color=\"red\")\n",
    "plt.xlabel('Temperatura',fontsize=15)\n",
    "plt.ylabel('Coheficiente\\n de expansión',fontsize=15)\n",
    "plt.show()\n",
    "\n",
    "\n",
    "        "
   ]
  }
 ],
 "metadata": {
  "kernelspec": {
   "display_name": "Python 3",
   "language": "python",
   "name": "python3"
  },
  "language_info": {
   "codemirror_mode": {
    "name": "ipython",
    "version": 3
   },
   "file_extension": ".py",
   "mimetype": "text/x-python",
   "name": "python",
   "nbconvert_exporter": "python",
   "pygments_lexer": "ipython3",
   "version": "3.10.11"
  },
  "orig_nbformat": 4
 },
 "nbformat": 4,
 "nbformat_minor": 2
}
